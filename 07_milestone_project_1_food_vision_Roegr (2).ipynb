{
 "cells": [
  {
   "cell_type": "markdown",
   "metadata": {
    "id": "S7B884ds14jm"
   },
   "source": [
    "# Milestone Project 1: Food Vision Big"
   ]
  },
  {
   "cell_type": "code",
   "execution_count": 6,
   "metadata": {
    "colab": {
     "base_uri": "https://localhost:8080/",
     "height": 35
    },
    "id": "oZn_WdFNnJCi",
    "outputId": "51289fae-0746-4658-b95f-7160bd365e59",
    "tags": []
   },
   "outputs": [
    {
     "data": {
      "text/plain": [
       "'2.13.0'"
      ]
     },
     "execution_count": 6,
     "metadata": {},
     "output_type": "execute_result"
    }
   ],
   "source": [
    "import tensorflow as tf\n",
    "tf.__version__"
   ]
  },
  {
   "cell_type": "code",
   "execution_count": 7,
   "metadata": {
    "colab": {
     "base_uri": "https://localhost:8080/"
    },
    "id": "KLtip-wwqSLj",
    "outputId": "6edc72b8-a937-4016-a403-52a3471bfe8c",
    "tags": []
   },
   "outputs": [],
   "source": [
    "# pip install tensorflow==2.10.0\n"
   ]
  },
  {
   "cell_type": "code",
   "execution_count": 8,
   "metadata": {
    "id": "vLDcmdA4dWKZ"
   },
   "outputs": [],
   "source": [
    "# # Downgrade Tensorflow Version (run this in Google Colab)\n",
    "# !pip install tensorflow==2.4.1\n"
   ]
  },
  {
   "cell_type": "code",
   "execution_count": 9,
   "metadata": {
    "colab": {
     "base_uri": "https://localhost:8080/",
     "height": 35
    },
    "id": "kx9YyolWqnlS",
    "outputId": "a61772b0-2375-482e-f852-616add174879"
   },
   "outputs": [
    {
     "data": {
      "text/plain": [
       "'2.13.0'"
      ]
     },
     "execution_count": 9,
     "metadata": {},
     "output_type": "execute_result"
    }
   ],
   "source": [
    "tf.__version__"
   ]
  },
  {
   "cell_type": "code",
   "execution_count": 10,
   "metadata": {
    "colab": {
     "base_uri": "https://localhost:8080/"
    },
    "id": "U6t0WmWV7dvu",
    "outputId": "83fc19ae-4371-437f-c2cb-1ed3d1663d8b",
    "tags": []
   },
   "outputs": [
    {
     "name": "stdout",
     "output_type": "stream",
     "text": [
      "zsh:1: command not found: nvidia-smi\n"
     ]
    }
   ],
   "source": [
    "### The only GPU that is compatible with precision training as well as available on Google Colab is the GPU used in this notebbok: Tesla T4 ###\n",
    "\n",
    "!nvidia-smi"
   ]
  },
  {
   "cell_type": "code",
   "execution_count": 11,
   "metadata": {
    "colab": {
     "base_uri": "https://localhost:8080/"
    },
    "id": "agfLRtA17d06",
    "outputId": "29aa7d49-5611-4edb-b1f8-1b5a57137f62"
   },
   "outputs": [
    {
     "name": "stdout",
     "output_type": "stream",
     "text": [
      "zsh:1: command not found: nvidia-smi\n"
     ]
    }
   ],
   "source": [
    "!nvidia-smi -L"
   ]
  },
  {
   "cell_type": "markdown",
   "metadata": {
    "id": "lJFI9rGP7d4w"
   },
   "source": [
    "## Getting helper functions\n",
    "\n"
   ]
  },
  {
   "cell_type": "code",
   "execution_count": 20,
   "metadata": {
    "colab": {
     "base_uri": "https://localhost:8080/"
    },
    "id": "lFVPv95C7d7s",
    "outputId": "bbea1f2a-2e92-4829-e784-3edff2bdce3c",
    "tags": []
   },
   "outputs": [
    {
     "name": "stdout",
     "output_type": "stream",
     "text": [
      "  % Total    % Received % Xferd  Average Speed   Time    Time     Time  Current\n",
      "                                 Dload  Upload   Total   Spent    Left  Speed\n",
      "100 10246  100 10246    0     0   253k      0 --:--:-- --:--:-- --:--:--  256k\n"
     ]
    }
   ],
   "source": [
    "# !wget https://raw.githubusercontent.com/mrdbourke/tensorflow-deep-learning/main/extras/helper_functions.py\n",
    "\n",
    "!curl -O https://raw.githubusercontent.com/mrdbourke/tensorflow-deep-learning/main/extras/helper_functions.py\n"
   ]
  },
  {
   "cell_type": "code",
   "execution_count": 14,
   "metadata": {
    "tags": []
   },
   "outputs": [
    {
     "name": "stdout",
     "output_type": "stream",
     "text": [
      "Requirement already satisfied: wget in /Users/rogerlbcn/anaconda3/lib/python3.11/site-packages (3.2)\n"
     ]
    }
   ],
   "source": [
    "# !pip install wget"
   ]
  },
  {
   "cell_type": "code",
   "execution_count": 21,
   "metadata": {
    "id": "sVfIa4bN7d-z"
   },
   "outputs": [],
   "source": [
    "# Importing the helper_functions needed for this notebopk:\n",
    "from helper_functions import create_tensorboard_callback, plot_loss_curves, compare_historys, load_and_prep_image"
   ]
  },
  {
   "cell_type": "markdown",
   "metadata": {
    "id": "m8SD0IUp7eSM"
   },
   "source": [
    "## Using TensorFlow DataSets [(TFDS)](https://www.tensorflow.org/datasets/) overview to download Data:\n",
    "\n",
    " Read the TFDS's documentation: https://www.tensorflow.org/datasets/overview\n"
   ]
  },
  {
   "cell_type": "code",
   "execution_count": 22,
   "metadata": {
    "id": "qDvG87rPDrcA",
    "tags": []
   },
   "outputs": [],
   "source": [
    "# importing tensorflow datasets as tfds:\n",
    "import tensorflow_datasets as tfds"
   ]
  },
  {
   "cell_type": "code",
   "execution_count": 23,
   "metadata": {
    "colab": {
     "base_uri": "https://localhost:8080/"
    },
    "id": "J2cwLnvXDrfW",
    "outputId": "17a88c7e-a011-4dfb-a5f5-7df497e4dbce",
    "tags": []
   },
   "outputs": [
    {
     "name": "stderr",
     "output_type": "stream",
     "text": [
      "2023-12-11 14:26:08.241660: W tensorflow/tsl/platform/cloud/google_auth_provider.cc:184] All attempts to get a Google authentication bearer token failed, returning an empty token. Retrieving token from files failed with \"NOT_FOUND: Could not locate the credentials file.\". Retrieving token from GCE failed with \"FAILED_PRECONDITION: Error executing an HTTP request: libcurl code 6 meaning 'Couldn't resolve host name', error details: Could not resolve host: metadata.google.internal\".\n"
     ]
    },
    {
     "name": "stdout",
     "output_type": "stream",
     "text": [
      "True\n"
     ]
    }
   ],
   "source": [
    "### Listing all available Datasets: ###\n",
    "datasets_list = tfds.list_builders() # Getting all available datasets in TFDS\n",
    "\n",
    "### Checking if our target dataset is in the TFDS list created above:\n",
    "print(\"food101\" in datasets_list) # Is our target dataset in the list of TFDS datasets"
   ]
  },
  {
   "cell_type": "code",
   "execution_count": 24,
   "metadata": {
    "colab": {
     "base_uri": "https://localhost:8080/",
     "height": 149,
     "referenced_widgets": [
      "3ce470bec2fb4c9aa258da085e40e0c0",
      "979b4ad81c4841bb93cab1a44253f374",
      "85ae67481d424f3d99f633367fb28279",
      "dab83413e4394424b8d4e42ceda2a116",
      "12bfdff8f870447d896877a16b8f6b0d",
      "282b3ce774f54727b0efc70c9aae0d8c",
      "bc196bc4a77f427ba3a2496863dd3dd4",
      "89bc94f1d15f4880948c12f9ae132e63",
      "45f3b5d3314746a08cb40326f12d5ae9",
      "6d6dd4c0c8fe446686fa9adfeee04d3f",
      "81f10753443842a597b78047e7209791",
      "e13fdf6ae9db4f6b9275381564cb8477",
      "c34d4c898c9842a6bbb01b5851699a6f",
      "283b15cd3e974689829b848ab0bd3c0a",
      "6007a3aa81eb4f3286dd5d739417ddd5",
      "01156b4d60ed4e3c8ddd517e23e034f2",
      "7624ffffafa5438098718408744b1e90",
      "d0eff09a4713413182559b9c8f58b0ed",
      "1e08d6d8a7de45d4a5028ac2704bd15a",
      "335c9797a9ef4e2b83e21f95c62f53bb",
      "5012764b0caf4626ac6d8379b528f2a9",
      "765f42f26aba4db280a2040e6b926d5b",
      "6178f99fb9734234be65278c1d0eb089",
      "d876447d34c745739c11a365cb301e3e",
      "d3a0db7dd6a446a785c340720b98f7ca",
      "218008b5f88c499986ca39cf43defebb",
      "71947a1554284271b0ed067b97dceeff",
      "f8c461a9ea7b4cbc9270d86ab592dde1",
      "05ab0f2323e94d6387efa00b7bd5c219",
      "1742e3a689654438822509b534503190",
      "c2ee656d222f4b7389b4b1c54ee5b1f5",
      "975de2fff1314fb98edc14dcc501f838",
      "8fdcc0e836434ed0b562ca7211de97da",
      "18b19a7cf7254dd1a4e35954f3e122a1",
      "0a5666c1e9844e21b936e31bba52eaec",
      "be9d3dfd49cd417999ba40e0ec587123",
      "491e24332d3c48f4bdcd4a876963d211",
      "1f5810eafcd34a3c91cc123cf63f134d",
      "a1fbfcf439f44064b77e197a5bf377d9",
      "56c9b846f9964a088469c80c18076b1a",
      "1df29642ff4c4dd8aaa51016f81577fa",
      "ce88edd3cb214445bbe2618aa6e066a0",
      "c61874af41f248fba022c09cd1a42b45",
      "78f3f2ff53ca4150b34a381406de80bd",
      "12da9e76d03a48be9b7783b251ff059a",
      "6252d1708a3f4504b011d444ef15dca1",
      "3c25904ec36046b49779910e19b2852b",
      "0f83cb2959e84aefb4d20bf5adb957ac",
      "be3a243293004c8ca0dabcc31ff40811",
      "f61a13a5f0c54dd1971465212195abcb",
      "43b02fca99074b3d8e6dca46fb61a2b7",
      "ff67a1ded7ff468d840c734946a03eb0",
      "91c35f430f9d43d98c5b46689bd79d69",
      "b0caefc2545a4d8496c418c1645d35ec",
      "76797c2ae98c44aea669c4720e5e3674",
      "56670393f0e0419b89513e0579096a99",
      "08d288df739241bdbaa5003085992f1c",
      "0ddb3413e9e04c07a7d42b56b759e1c3",
      "5ee772e0611044c6b4317626a713a779",
      "5a01355657a04781a1592960ddf15072",
      "60e31d12732f4078b0767f3e23f82907",
      "575708dcfb694454a577f85826a14cf3",
      "3612173ee6454dccab854fa9b3127715",
      "3aa3e38036fe4ac5b1b2dda06614dc0c",
      "c7287a92f0514a8482ba7930a455a51a",
      "1663e71055de4049aa591df52f1cd468",
      "13b4421bbc5d446a8ac0afa3b5b7eb00",
      "042944c6a9064d04b80d4120b05e644f",
      "84c84a33d32a4a578b442e28f498f6c1",
      "aba6347736ab45b39533f26d35787eab",
      "3deb8732b1cb45e79d5a289b36355cd1",
      "ce0b698236c34b5f8cb15d1d651d36b0",
      "aed128e7637f46b78bd4de98e7d12939",
      "9e41ee1467774c838a8f187a4da6d5bb",
      "48577e88dec84d13b4371435a3cb5b6e",
      "f0673fbdbdef4c71a75f8446da5e31a1",
      "3c998e7d9468458ba7bd50d4d0f6a02b",
      "cbeb3c77e4024ab395b9181a29b43c25",
      "2a9c296474994d2d857548aa3068acfa",
      "197ae4d3d79d4598a9f5daa275f57547",
      "88b26985d88d4a34b881e2d8e219547c",
      "1b4adb1d3f70438b8e80ce65dc5f3919",
      "a663b630ff70415eba5932d9de0f9721",
      "6869e6aeb1eb46ae940d491ae942cd74",
      "fc17b2d953b14ca080471508aa1ed261",
      "68ed3cbeba79443d8e89d6dae44f3430",
      "25385c0d4bfb44adb5d25a543951eab6",
      "4dc103257dd64d2ead43f1a7a9036d53"
     ]
    },
    "id": "2c-aAcTIK_2o",
    "outputId": "417106e0-9d05-4604-87de-25cdebc1f086",
    "tags": []
   },
   "outputs": [],
   "source": [
    "# Load the data (it normally takes 5-6 min on Google Colab)\n",
    "(train_data, test_data), ds_info = tfds.load(name = \"food101\",\n",
    "                                             split = [\"train\", \"validation\"],\n",
    "                                             shuffle_files = True,\n",
    "                                             as_supervised = True, # Thanks to this, data gets returned in tuple format: (data, label)\n",
    "                                             with_info = True)"
   ]
  },
  {
   "cell_type": "markdown",
   "metadata": {
    "id": "1GPhYChTMjkh"
   },
   "source": [
    "## Exploring the Food101 data from TensorFLow Datsets\n",
    "\n",
    "To become one with the data, we want to find:\n",
    "* Class names\n",
    "* The shape of our input data (image tensors)\n",
    "* What the labels look like (i.e. are they one-hot encoded or label encoded?)\n",
    "* Do the labels match up with the class names"
   ]
  },
  {
   "cell_type": "code",
   "execution_count": 25,
   "metadata": {
    "colab": {
     "base_uri": "https://localhost:8080/"
    },
    "id": "zLYcYGcsWTS2",
    "outputId": "81c7838d-1494-4594-fd6a-d8ddbbbdb45d",
    "tags": []
   },
   "outputs": [
    {
     "data": {
      "text/plain": [
       "FeaturesDict({\n",
       "    'image': Image(shape=(None, None, 3), dtype=uint8),\n",
       "    'label': ClassLabel(shape=(), dtype=int64, num_classes=101),\n",
       "})"
      ]
     },
     "execution_count": 25,
     "metadata": {},
     "output_type": "execute_result"
    }
   ],
   "source": [
    "# Features of Food101 from TFDS\n",
    "ds_info.features"
   ]
  },
  {
   "cell_type": "code",
   "execution_count": 26,
   "metadata": {
    "colab": {
     "base_uri": "https://localhost:8080/"
    },
    "id": "lwrTuk7lMjg-",
    "outputId": "15accd15-32f4-401b-c7e5-ac0faac990df",
    "tags": []
   },
   "outputs": [
    {
     "data": {
      "text/plain": [
       "['apple_pie',\n",
       " 'baby_back_ribs',\n",
       " 'baklava',\n",
       " 'beef_carpaccio',\n",
       " 'beef_tartare',\n",
       " 'beet_salad',\n",
       " 'beignets',\n",
       " 'bibimbap',\n",
       " 'bread_pudding',\n",
       " 'breakfast_burrito',\n",
       " 'bruschetta',\n",
       " 'caesar_salad',\n",
       " 'cannoli',\n",
       " 'caprese_salad',\n",
       " 'carrot_cake',\n",
       " 'ceviche',\n",
       " 'cheesecake',\n",
       " 'cheese_plate',\n",
       " 'chicken_curry',\n",
       " 'chicken_quesadilla',\n",
       " 'chicken_wings',\n",
       " 'chocolate_cake',\n",
       " 'chocolate_mousse',\n",
       " 'churros',\n",
       " 'clam_chowder',\n",
       " 'club_sandwich',\n",
       " 'crab_cakes',\n",
       " 'creme_brulee',\n",
       " 'croque_madame',\n",
       " 'cup_cakes',\n",
       " 'deviled_eggs',\n",
       " 'donuts',\n",
       " 'dumplings',\n",
       " 'edamame',\n",
       " 'eggs_benedict',\n",
       " 'escargots',\n",
       " 'falafel',\n",
       " 'filet_mignon',\n",
       " 'fish_and_chips',\n",
       " 'foie_gras',\n",
       " 'french_fries',\n",
       " 'french_onion_soup',\n",
       " 'french_toast',\n",
       " 'fried_calamari',\n",
       " 'fried_rice',\n",
       " 'frozen_yogurt',\n",
       " 'garlic_bread',\n",
       " 'gnocchi',\n",
       " 'greek_salad',\n",
       " 'grilled_cheese_sandwich',\n",
       " 'grilled_salmon',\n",
       " 'guacamole',\n",
       " 'gyoza',\n",
       " 'hamburger',\n",
       " 'hot_and_sour_soup',\n",
       " 'hot_dog',\n",
       " 'huevos_rancheros',\n",
       " 'hummus',\n",
       " 'ice_cream',\n",
       " 'lasagna',\n",
       " 'lobster_bisque',\n",
       " 'lobster_roll_sandwich',\n",
       " 'macaroni_and_cheese',\n",
       " 'macarons',\n",
       " 'miso_soup',\n",
       " 'mussels',\n",
       " 'nachos',\n",
       " 'omelette',\n",
       " 'onion_rings',\n",
       " 'oysters',\n",
       " 'pad_thai',\n",
       " 'paella',\n",
       " 'pancakes',\n",
       " 'panna_cotta',\n",
       " 'peking_duck',\n",
       " 'pho',\n",
       " 'pizza',\n",
       " 'pork_chop',\n",
       " 'poutine',\n",
       " 'prime_rib',\n",
       " 'pulled_pork_sandwich',\n",
       " 'ramen',\n",
       " 'ravioli',\n",
       " 'red_velvet_cake',\n",
       " 'risotto',\n",
       " 'samosa',\n",
       " 'sashimi',\n",
       " 'scallops',\n",
       " 'seaweed_salad',\n",
       " 'shrimp_and_grits',\n",
       " 'spaghetti_bolognese',\n",
       " 'spaghetti_carbonara',\n",
       " 'spring_rolls',\n",
       " 'steak',\n",
       " 'strawberry_shortcake',\n",
       " 'sushi',\n",
       " 'tacos',\n",
       " 'takoyaki',\n",
       " 'tiramisu',\n",
       " 'tuna_tartare',\n",
       " 'waffles']"
      ]
     },
     "execution_count": 26,
     "metadata": {},
     "output_type": "execute_result"
    }
   ],
   "source": [
    "# Getting the class names:\n",
    "class_names = ds_info.features[\"label\"].names\n",
    "class_names"
   ]
  },
  {
   "cell_type": "code",
   "execution_count": 27,
   "metadata": {
    "id": "rh0aV2sqMjm1",
    "tags": []
   },
   "outputs": [],
   "source": [
    "# Take one sample of the train data:\n",
    "train_one_sample = train_data.take(1) # Samples are in format (image_tensor, label)"
   ]
  },
  {
   "cell_type": "code",
   "execution_count": 28,
   "metadata": {
    "colab": {
     "base_uri": "https://localhost:8080/"
    },
    "id": "EyRAwgnEK_5Y",
    "outputId": "ca738172-3806-4b49-c1ef-067cdfad48db",
    "tags": []
   },
   "outputs": [
    {
     "data": {
      "text/plain": [
       "<_TakeDataset element_spec=(TensorSpec(shape=(None, None, 3), dtype=tf.uint8, name=None), TensorSpec(shape=(), dtype=tf.int64, name=None))>"
      ]
     },
     "execution_count": 28,
     "metadata": {},
     "output_type": "execute_result"
    }
   ],
   "source": [
    "# What does one sample of our training data look like?\n",
    "train_one_sample"
   ]
  },
  {
   "cell_type": "code",
   "execution_count": 29,
   "metadata": {
    "colab": {
     "base_uri": "https://localhost:8080/"
    },
    "id": "3qMHoGx-aC0B",
    "outputId": "e7040294-b4c4-4d27-9a89-3d330f351a08",
    "tags": []
   },
   "outputs": [
    {
     "name": "stdout",
     "output_type": "stream",
     "text": [
      "\n",
      "  Image shape: (512, 512, 3) \n",
      "\n",
      "  Image datatype: <dtype: 'uint8'> \n",
      "\n",
      "  Target class from Food101 (tensor form): 21 \n",
      "\n",
      "  Class name (str form): chocolate_cake\n",
      "  \n"
     ]
    }
   ],
   "source": [
    "# Ouput info about our training sample:\n",
    "for image, label in train_one_sample:\n",
    "  print(f\"\"\"\n",
    "  Image shape: {image.shape} \\n\n",
    "  Image datatype: {image.dtype} \\n\n",
    "  Target class from Food101 (tensor form): {label} \\n\n",
    "  Class name (str form): {class_names[label.numpy()]}\n",
    "  \"\"\")"
   ]
  },
  {
   "cell_type": "code",
   "execution_count": 30,
   "metadata": {
    "colab": {
     "base_uri": "https://localhost:8080/"
    },
    "id": "45CceMwZaC9u",
    "outputId": "d5fbc40e-66ac-45c1-bb8f-5ccaa5a155f8",
    "tags": []
   },
   "outputs": [
    {
     "data": {
      "text/plain": [
       "<tf.Tensor: shape=(512, 512, 3), dtype=uint8, numpy=\n",
       "array([[[ 32,  14,   0],\n",
       "        [ 31,  13,   0],\n",
       "        [ 28,  12,   0],\n",
       "        ...,\n",
       "        [ 54,  34,  10],\n",
       "        [ 53,  33,   9],\n",
       "        [ 51,  31,   7]],\n",
       "\n",
       "       [[ 28,  10,   0],\n",
       "        [ 28,  10,   0],\n",
       "        [ 27,  11,   0],\n",
       "        ...,\n",
       "        [ 56,  36,  12],\n",
       "        [ 55,  35,  11],\n",
       "        [ 54,  34,   9]],\n",
       "\n",
       "       [[ 30,  12,   0],\n",
       "        [ 31,  13,   0],\n",
       "        [ 31,  15,   0],\n",
       "        ...,\n",
       "        [ 58,  38,  13],\n",
       "        [ 58,  38,  13],\n",
       "        [ 58,  38,  11]],\n",
       "\n",
       "       ...,\n",
       "\n",
       "       [[135,  80,   0],\n",
       "        [136,  81,   1],\n",
       "        [137,  82,   2],\n",
       "        ...,\n",
       "        [ 13,   6,   0],\n",
       "        [ 13,   6,   0],\n",
       "        [ 13,   6,   0]],\n",
       "\n",
       "       [[137,  82,   2],\n",
       "        [137,  82,   2],\n",
       "        [137,  82,   2],\n",
       "        ...,\n",
       "        [ 13,   6,   0],\n",
       "        [ 13,   6,   0],\n",
       "        [ 13,   6,   0]],\n",
       "\n",
       "       [[136,  81,   1],\n",
       "        [135,  80,   0],\n",
       "        [135,  80,   0],\n",
       "        ...,\n",
       "        [ 14,   7,   1],\n",
       "        [ 14,   7,   1],\n",
       "        [ 14,   7,   1]]], dtype=uint8)>"
      ]
     },
     "execution_count": 30,
     "metadata": {},
     "output_type": "execute_result"
    }
   ],
   "source": [
    "# What does our image tensor from TFDS Food101 look like?\n",
    "image"
   ]
  },
  {
   "cell_type": "code",
   "execution_count": 31,
   "metadata": {
    "colab": {
     "base_uri": "https://localhost:8080/"
    },
    "id": "PXDlkOVGbny1",
    "outputId": "4ebf8561-df95-4444-f4c5-d5b06f898c8f",
    "tags": []
   },
   "outputs": [
    {
     "data": {
      "text/plain": [
       "(<tf.Tensor: shape=(), dtype=uint8, numpy=0>,\n",
       " <tf.Tensor: shape=(), dtype=uint8, numpy=255>)"
      ]
     },
     "execution_count": 31,
     "metadata": {},
     "output_type": "execute_result"
    }
   ],
   "source": [
    "# What are the min and max values of our image tensor?\n",
    "import tensorflow as tf\n",
    "tf.reduce_min(image), tf.reduce_max(image)"
   ]
  },
  {
   "cell_type": "markdown",
   "metadata": {
    "id": "thD0HaFXbn5x"
   },
   "source": [
    "### Plot an image from TensorFlow DataSets:\n"
   ]
  },
  {
   "cell_type": "code",
   "execution_count": 32,
   "metadata": {
    "colab": {
     "base_uri": "https://localhost:8080/",
     "height": 428
    },
    "id": "LF1-8A2Rbn9f",
    "outputId": "aa308762-785d-4240-d8fa-951e2477ebe8",
    "tags": []
   },
   "outputs": [
    {
     "data": {
      "image/png": "[encoded data removed]",
      "text/plain": [
       "<Figure size 640x480 with 1 Axes>"
      ]
     },
     "metadata": {},
     "output_type": "display_data"
    }
   ],
   "source": [
    "# PLot an image tensor\n",
    "import matplotlib.pyplot as plt\n",
    "\n",
    "plt.imshow(image) # Plotting image\n",
    "plt.title(class_names[label.numpy()]) # Add title to image to verify the label is assosiated to the right image\n",
    "plt.axis(False);"
   ]
  },
  {
   "cell_type": "markdown",
   "metadata": {
    "id": "dk0E2leiboNn"
   },
   "source": [
    "## Creating pre-processing functions for our data:\n",
    "\n",
    "Neural Networks perform best when data is in a certain way (i.e. batched, normalized, etc...)\n",
    "\n",
    "However, not all data (including data from TensorFlow DataSets) comes like this.\n",
    "\n",
    "Therefore, in order for it to be ready for a neural network, we'll often have to write preprocessing functions and map it to our data.\n",
    "\n",
    "What we know about our data:\n",
    "* In `uint8` datatype\n",
    "* Comprised of all different size tensors (different sized images)\n",
    "* Not scaled (the pixel values are between 0 and 255, instead of 0 & 1)\n",
    "\n",
    "What we know models like:\n",
    "* Data in `float32` dtype (or for mixed precision `float16` and `float32`)\n",
    "* For batches, TensorFlow, likes all of the tensors within a batch to be of the same size\n",
    "* Scale (values between 0 and 1), also called normalized tensors generally perform better\n",
    "\n",
    "These points give us a few things to tackle with a preprocessing function\n",
    "\n",
    "**NOTE:** Since we'll use an EfficientNetBX pretrained model from tf.keras.applications, we don't need to rescale our data (these architectures have rescaling built-in)\n",
    "\n",
    "This means our functions need to:\n",
    "1. Reshape our images to all the same size\n",
    "2. Convert the dtype of our tensors from uint8 to float32"
   ]
  },
  {
   "cell_type": "code",
   "execution_count": null,
   "metadata": {
    "id": "-8-sw9O8jMK7"
   },
   "outputs": [],
   "source": [
    "# Right now, before doing any preprocessing, our image shape is (image, label)"
   ]
  },
  {
   "cell_type": "code",
   "execution_count": 33,
   "metadata": {
    "id": "t7peeWKjdqJc",
    "tags": []
   },
   "outputs": [],
   "source": [
    "# make a function for preprocessing images:\n",
    "def preprocess_img(image, label, img_shape = 224):\n",
    "  \"\"\"\n",
    "  Converts image datatype from `uint8` to `float32` and reshapes\n",
    "  image to [img_shape, img_shape, colour_channels]\n",
    "  \"\"\"\n",
    "  image = tf.image.resize(image, [img_shape, img_shape]) # reshape target image\n",
    "  # image = image/255. # Scale (NORMALIZE) image values (NOT REQUIRED FOR EFFICIENTNETBX MODELS)\n",
    "  return tf.cast(image, tf.float32), label # returning (float32_image, label). This is a tuple!!!\n"
   ]
  },
  {
   "cell_type": "code",
   "execution_count": 34,
   "metadata": {
    "colab": {
     "base_uri": "https://localhost:8080/"
    },
    "id": "KkOs3TQ6dqMe",
    "outputId": "faaaa915-b5c5-406a-924e-f685ff84a63a",
    "tags": []
   },
   "outputs": [
    {
     "name": "stdout",
     "output_type": "stream",
     "text": [
      "Image before preprocessing: \n",
      " [[[32 14  0]\n",
      "  [31 13  0]\n",
      "  [28 12  0]\n",
      "  ...\n",
      "  [54 34 10]\n",
      "  [53 33  9]\n",
      "  [51 31  7]]\n",
      "\n",
      " [[28 10  0]\n",
      "  [28 10  0]\n",
      "  [27 11  0]\n",
      "  ...\n",
      "  [56 36 12]\n",
      "  [55 35 11]\n",
      "  [54 34  9]]]..., \n",
      "\n",
      "          Shape: (512, 512, 3) \n",
      "\n",
      "          Datatype: <dtype: 'uint8'> \n",
      ")\n",
      "       \n",
      "Image after preprocessing: \n",
      " [[[29.19898    11.198979    0.        ]\n",
      "  [28.285715   12.285714    0.        ]\n",
      "  [30.852041   15.494898    0.28061217]\n",
      "  ...\n",
      "  [52.9336     32.505074    8.7193365 ]\n",
      "  [54.025528   34.025528   10.025528  ]\n",
      "  [53.800972   33.800972    9.571359  ]]\n",
      "\n",
      " [[33.09694    15.096939    1.193878  ]\n",
      "  [33.785713   17.785715    2.785715  ]\n",
      "  [31.785713   16.428572    1.2142859 ]\n",
      "  ...\n",
      "  [63.60206    42.530632   15.346998  ]\n",
      "  [61.647934   40.7857     13.928558  ]\n",
      "  [60.785713   41.714287   12.020403  ]]]..., \n",
      "\n",
      "          Shape: (224, 224, 3) \n",
      "\n",
      "          Datatype: <dtype: 'float32'> \n",
      "\n",
      "       \n"
     ]
    }
   ],
   "source": [
    "### What we are doing here is changing the shape of the image and the data type ###\n",
    "### We are not yet normalizing the data###\n",
    "\n",
    "# Preprocess a single sample image and check the outputs:\n",
    "preprocessed_img = preprocess_img(image, label)[0]\n",
    "print(f\"\"\"Image before preprocessing: \\n {image[:2]}..., \\n\n",
    "          Shape: {image.shape} \\n\n",
    "          Datatype: {image.dtype} \\n)\n",
    "       \"\"\") # Only getting the first 2 indexes so it doesn't output to much\n",
    "\n",
    "print(f\"\"\"Image after preprocessing: \\n {preprocessed_img[:2]}..., \\n\n",
    "          Shape: {preprocessed_img.shape} \\n\n",
    "          Datatype: {preprocessed_img.dtype} \\n\n",
    "       \"\"\")"
   ]
  },
  {
   "cell_type": "code",
   "execution_count": null,
   "metadata": {
    "id": "pKYduk8raDBH"
   },
   "outputs": [],
   "source": [
    "# Our images are not yet in batches"
   ]
  },
  {
   "cell_type": "markdown",
   "metadata": {
    "id": "568aGqtraDEM"
   },
   "source": [
    "## Batch & prepare datasets\n",
    "\n",
    "This will make our data input run much faster.\n",
    "\n",
    "Check the documentation for more info: https://www.tensorflow.org/guide/data_performance"
   ]
  },
  {
   "cell_type": "code",
   "execution_count": 35,
   "metadata": {
    "id": "QtStkDv7WKMQ",
    "tags": []
   },
   "outputs": [],
   "source": [
    " # Maping preprocessing function to training (AND parallelize)\n",
    "train_data = train_data.map(map_func = preprocess_img, num_parallel_calls = tf.data.AUTOTUNE)\n",
    "\n",
    " # Suffleing train_data and turn it into batches and prefect it (load it faster)\n",
    " ### NOTE: buffer size is 1k, in order for our our machines to be able to store it in one go ###\n",
    " ### NOTE: what buffering does is shuffeling data before every epoch. This prevents our model from overfitting ###\n",
    "train_data = train_data.shuffle(1000).batch(batch_size = 32).prefetch(buffer_size = tf.data.AUTOTUNE)\n",
    "\n",
    " # Doing the same fir the testing data:\n",
    "\n",
    " # Maping preprocesing fucntion for testing (AND parallelize)\n",
    "test_data = test_data.map(map_func = preprocess_img, num_parallel_calls = tf.data.AUTOTUNE) ### What \"num_parallel_calls and data.AUTOTUNE\" does is: Finding outhow many processing uits the machine has and use as many as possible\n",
    " # Suffleing test_data AND turning it into batches. Then perfecting it (to make it load faster)\n",
    "test_data = test_data.shuffle(1000).batch(batch_size = 32).prefetch(buffer_size = tf.data.AUTOTUNE).cache()\n"
   ]
  },
  {
   "cell_type": "markdown",
   "metadata": {
    "id": "AoDQBtj165ZK"
   },
   "source": [
    "What this does is to map this processing function (\"preprocess_img\") across our training dataset, then shuffle a number of elements and then batch them together. Finally make sure we prepare new batches (prefetch) whilst the model is looking through (finding patterns) the current batch."
   ]
  },
  {
   "cell_type": "code",
   "execution_count": 36,
   "metadata": {
    "colab": {
     "base_uri": "https://localhost:8080/"
    },
    "id": "673zqSoLWKU8",
    "outputId": "b9b4262c-d1a2-42e3-a191-1bc89081bf3b",
    "tags": []
   },
   "outputs": [
    {
     "data": {
      "text/plain": [
       "(<_PrefetchDataset element_spec=(TensorSpec(shape=(None, 224, 224, 3), dtype=tf.float32, name=None), TensorSpec(shape=(None,), dtype=tf.int64, name=None))>,\n",
       " <CacheDataset element_spec=(TensorSpec(shape=(None, 224, 224, 3), dtype=tf.float32, name=None), TensorSpec(shape=(None,), dtype=tf.int64, name=None))>)"
      ]
     },
     "execution_count": 36,
     "metadata": {},
     "output_type": "execute_result"
    }
   ],
   "source": [
    "# Checking how our datasets look like after prparing them (batching):\n",
    "train_data, test_data"
   ]
  },
  {
   "cell_type": "markdown",
   "metadata": {
    "id": "n-6xNkH160Du"
   },
   "source": [
    "## Creating Modeling Callbacks\n",
    "\n",
    "Creating a couple of callbacks to help us while our model trains:\n",
    "* Tensorboard callback: To log trainig results (so we can visualize them later if needed)\n",
    "* ModelCheckpoint callback: To save our model's progress after feature extraction"
   ]
  },
  {
   "cell_type": "code",
   "execution_count": 37,
   "metadata": {
    "id": "pOa3p4fSWKYZ",
    "tags": []
   },
   "outputs": [],
   "source": [
    "# Imporrting tensorflow callback fucntion from helper functions\n",
    "from helper_functions import create_tensorboard_callback\n",
    "\n",
    "# Create ModelCheckpoint callback to save our model's progress:\n",
    "# We save the weights instead of the whole model, so it takes less space and time to run\n",
    "checkpoint_path = \"model_checkpoints/cp.ckpt\" # we are required to add .ckpt in order to save the weights!!!\n",
    "model_checkpoint = tf.keras.callbacks.ModelCheckpoint(checkpoint_path, # This saves the model's weights with the best\n",
    "                                                      monitor = \"val_accuracy\",\n",
    "                                                      save_best_only = True,\n",
    "                                                      save_weihghts_only = True,\n",
    "                                                      verbose = 0)"
   ]
  },
  {
   "cell_type": "markdown",
   "metadata": {
    "id": "j9CBlUE9WKbF"
   },
   "source": [
    "## Setup mixed precision training\n",
    "\n",
    "For deeper understanding of precision training check out the following guide:\n",
    "\n",
    "https://www.tensorflow.org/guide/mixed_precision\n",
    "\n",
    "Mixed precision uses a mixt of float32 and float16 data types to speed up model performance\n"
   ]
  },
  {
   "cell_type": "code",
   "execution_count": 38,
   "metadata": {
    "id": "mJyrqHx6KGGG"
   },
   "outputs": [
    {
     "name": "stdout",
     "output_type": "stream",
     "text": [
      "WARNING:tensorflow:Mixed precision compatibility check (mixed_float16): WARNING\n",
      "The dtype policy mixed_float16 may run slowly because this machine does not have a GPU. Only Nvidia GPUs with compute capability of at least 7.0 run quickly with mixed_float16.\n",
      "If you will use compatible GPU(s) not attached to this host, e.g. by running a multi-worker model, you can ignore this warning. This message will only be logged once\n"
     ]
    },
    {
     "name": "stderr",
     "output_type": "stream",
     "text": [
      "WARNING:tensorflow:Mixed precision compatibility check (mixed_float16): WARNING\n",
      "The dtype policy mixed_float16 may run slowly because this machine does not have a GPU. Only Nvidia GPUs with compute capability of at least 7.0 run quickly with mixed_float16.\n",
      "If you will use compatible GPU(s) not attached to this host, e.g. by running a multi-worker model, you can ignore this warning. This message will only be logged once\n"
     ]
    }
   ],
   "source": [
    "# Turn on mixed precision training:\n",
    "from tensorflow.keras import mixed_precision\n",
    "\n",
    "# This tells Tensorflow: \"For any part of Neural network that can use mixed precision or float16 do so\"\n",
    "mixed_precision.set_global_policy(\"mixed_float16\") # This sets global data policy to mixed precision\n"
   ]
  },
  {
   "cell_type": "code",
   "execution_count": 39,
   "metadata": {
    "colab": {
     "base_uri": "https://localhost:8080/"
    },
    "id": "eWoLj2h6KGLV",
    "outputId": "0717242a-7cc6-4db4-b67a-41c9a9f29ca8"
   },
   "outputs": [
    {
     "data": {
      "text/plain": [
       "<Policy \"mixed_float16\">"
      ]
     },
     "execution_count": 39,
     "metadata": {},
     "output_type": "execute_result"
    }
   ],
   "source": [
    "mixed_precision.global_policy()"
   ]
  },
  {
   "cell_type": "markdown",
   "metadata": {
    "id": "USOMHcnxKGPP"
   },
   "source": [
    "## Building Feature Extraction Model:"
   ]
  },
  {
   "cell_type": "code",
   "execution_count": 40,
   "metadata": {
    "colab": {
     "base_uri": "https://localhost:8080/"
    },
    "id": "yNwx7mzrC7yB",
    "outputId": "4d345f85-df2f-4399-a697-d60c44e8e93f"
   },
   "outputs": [
    {
     "name": "stdout",
     "output_type": "stream",
     "text": [
      "Downloading data from https://storage.googleapis.com/keras-applications/efficientnetb0_notop.h5\n",
      "16705208/16705208 [==============================] - 2s 0us/step\n"
     ]
    },
    {
     "name": "stderr",
     "output_type": "stream",
     "text": [
      "WARNING:absl:At this time, the v2.11+ optimizer `tf.keras.optimizers.Adam` runs slowly on M1/M2 Macs, please use the legacy Keras optimizer instead, located at `tf.keras.optimizers.legacy.Adam`.\n",
      "WARNING:absl:There is a known slowdown when using v2.11+ Keras optimizers on M1/M2 Macs. Falling back to the legacy Keras optimizer, i.e., `tf.keras.optimizers.legacy.Adam`.\n"
     ]
    }
   ],
   "source": [
    "from tensorflow.keras import layers\n",
    "from tensorflow.keras.layers.experimental import preprocessing\n",
    "\n",
    "# Create base model:\n",
    "input_shape = (224, 224, 3)\n",
    "base_model = tf.keras.applications.EfficientNetB0(include_top = False)\n",
    "base_model.trainable = False # We don't want to train the base model, since it's been trained already\n",
    "\n",
    "# Creating functional model:\n",
    "inputs = layers.Input(shape = input_shape, name = \"input_layer\")\n",
    "### NOTE: EfficientNetBX models have rescaling built-in, but if it using another one, we can add the line down below:\n",
    "# x = preprocessing.Rescaling(1/255)(x)\n",
    "\n",
    "x = base_model(inputs) # Making sure layers that should be in inference only stay like that\n",
    "x = layers.GlobalAveragePooling2D()(x)\n",
    "x = layers.Dense(len(class_names))(x)\n",
    "outputs = layers.Activation(\"softmax\",\n",
    "                            dtype = tf.float32,\n",
    "                            name = \"softmax_float32\")(x)\n",
    "model = tf.keras.Model(inputs, outputs)\n",
    "\n",
    "\n",
    "# Compiling model:\n",
    "\n",
    "### NOTE: If our labels are one hard encoded, then we need to use CategorialCcrossentropy, otherwise if our labels are in integer form (our case) then we use SparceCategoricalCrossentropy\n",
    "model.compile(loss = \"sparse_categorical_crossentropy\",\n",
    "              optimizer = tf.keras.optimizers.Adam(),\n",
    "              metrics = [\"accuracy\"])"
   ]
  },
  {
   "cell_type": "code",
   "execution_count": 41,
   "metadata": {
    "colab": {
     "base_uri": "https://localhost:8080/"
    },
    "id": "y4uIUBvMC71r",
    "outputId": "939f30d6-3c7a-4085-b189-d01bdec51452"
   },
   "outputs": [
    {
     "name": "stdout",
     "output_type": "stream",
     "text": [
      "Model: \"model\"\n",
      "_________________________________________________________________\n",
      " Layer (type)                Output Shape              Param #   \n",
      "=================================================================\n",
      " input_layer (InputLayer)    [(None, 224, 224, 3)]     0         \n",
      "                                                                 \n",
      " efficientnetb0 (Functional  (None, None, None, 1280   4049571   \n",
      " )                           )                                   \n",
      "                                                                 \n",
      " global_average_pooling2d (  (None, 1280)              0         \n",
      " GlobalAveragePooling2D)                                         \n",
      "                                                                 \n",
      " dense (Dense)               (None, 101)               129381    \n",
      "                                                                 \n",
      " softmax_float32 (Activatio  (None, 101)               0         \n",
      " n)                                                              \n",
      "                                                                 \n",
      "=================================================================\n",
      "Total params: 4178952 (15.94 MB)\n",
      "Trainable params: 129381 (505.39 KB)\n",
      "Non-trainable params: 4049571 (15.45 MB)\n",
      "_________________________________________________________________\n"
     ]
    }
   ],
   "source": [
    "model.summary()"
   ]
  },
  {
   "cell_type": "markdown",
   "metadata": {
    "id": "_ncPMQdmI8us"
   },
   "source": [
    "## Checking layer dtype policies to see if we're using mixed precision"
   ]
  },
  {
   "cell_type": "code",
   "execution_count": 42,
   "metadata": {
    "colab": {
     "base_uri": "https://localhost:8080/"
    },
    "id": "ZOgR5GEOC74p",
    "outputId": "9d129583-4689-4f3f-f263-4972d5efb73a"
   },
   "outputs": [
    {
     "name": "stdout",
     "output_type": "stream",
     "text": [
      "input_layer True float32 <Policy \"float32\">\n",
      "efficientnetb0 False float32 <Policy \"mixed_float16\">\n",
      "global_average_pooling2d True float32 <Policy \"mixed_float16\">\n",
      "dense True float32 <Policy \"mixed_float16\">\n",
      "softmax_float32 True float32 <Policy \"float32\">\n"
     ]
    }
   ],
   "source": [
    "for layers in model.layers:\n",
    "  print(layers.name, layers.trainable, layers.dtype, layers.dtype_policy)"
   ]
  },
  {
   "cell_type": "markdown",
   "metadata": {
    "id": "3ipQJMW2C8B8"
   },
   "source": [
    "Going through the above we see:\n",
    "* `layers.name`: The human readable name of a particular layer\n",
    "* `layers.trainable`: Is the layer trainable or not (if `False`, the weights are frozen)\n",
    "* `layers.dtype`: The data type stores its variables in (`float32` or `float16`)\n",
    "* `layers.dtype_policy`: The data type policy a layer computes on its variables with"
   ]
  },
  {
   "cell_type": "code",
   "execution_count": 43,
   "metadata": {
    "colab": {
     "base_uri": "https://localhost:8080/"
    },
    "id": "u9hgANw3C8eR",
    "outputId": "bdd6baf3-98cc-4e4a-937c-484f18677c3c"
   },
   "outputs": [
    {
     "name": "stdout",
     "output_type": "stream",
     "text": [
      "input_1 False float32 <Policy \"float32\">\n",
      "rescaling False float32 <Policy \"mixed_float16\">\n",
      "normalization False float32 <Policy \"mixed_float16\">\n",
      "rescaling_1 False float32 <Policy \"mixed_float16\">\n",
      "stem_conv_pad False float32 <Policy \"mixed_float16\">\n",
      "stem_conv False float32 <Policy \"mixed_float16\">\n",
      "stem_bn False float32 <Policy \"mixed_float16\">\n",
      "stem_activation False float32 <Policy \"mixed_float16\">\n",
      "block1a_dwconv False float32 <Policy \"mixed_float16\">\n",
      "block1a_bn False float32 <Policy \"mixed_float16\">\n",
      "block1a_activation False float32 <Policy \"mixed_float16\">\n",
      "block1a_se_squeeze False float32 <Policy \"mixed_float16\">\n",
      "block1a_se_reshape False float32 <Policy \"mixed_float16\">\n",
      "block1a_se_reduce False float32 <Policy \"mixed_float16\">\n",
      "block1a_se_expand False float32 <Policy \"mixed_float16\">\n",
      "block1a_se_excite False float32 <Policy \"mixed_float16\">\n",
      "block1a_project_conv False float32 <Policy \"mixed_float16\">\n",
      "block1a_project_bn False float32 <Policy \"mixed_float16\">\n",
      "block2a_expand_conv False float32 <Policy \"mixed_float16\">\n",
      "block2a_expand_bn False float32 <Policy \"mixed_float16\">\n"
     ]
    }
   ],
   "source": [
    "# Check the same attributes from the previous cell, but for out base model (EfficientNetB0)\n",
    "for layers in model.layers[1].layers[:20]: # Checking the layers of the base model (layer at index 1 of `model`) AND then we only visualize the first 20!!!\n",
    "  print(layers.name, layers.trainable, layers.dtype, layers.dtype_policy)"
   ]
  },
  {
   "cell_type": "code",
   "execution_count": null,
   "metadata": {},
   "outputs": [],
   "source": []
  },
  {
   "cell_type": "code",
   "execution_count": null,
   "metadata": {
    "id": "TLjZnYTaC8g2"
   },
   "outputs": [],
   "source": [
    "# # SAME AS ABOVE\n",
    "# for layers in base_model.layers:\n",
    "#   print(layers.name, layers.trainable, layers.dtype, layers.dtype_policy)"
   ]
  },
  {
   "cell_type": "code",
   "execution_count": null,
   "metadata": {
    "colab": {
     "base_uri": "https://localhost:8080/"
    },
    "id": "vDfQvyjn01ry",
    "outputId": "f4a362a5-a006-4196-b288-a1a7e0170627"
   },
   "outputs": [],
   "source": [
    "# This tells us the Global Policy:\n",
    "mixed_precision.global_policy()"
   ]
  },
  {
   "cell_type": "markdown",
   "metadata": {
    "id": "KGOtVFtA2B60"
   },
   "source": [
    "## Fit the feature extraction model:\n",
    "\n",
    "If our goal is to fine-tune a pretrained model, the general order of doing things is:\n",
    "1. Building a feature extraction model (train a couple of output layers with base layers frozen)\n",
    "2. Fine-tune some of the frozen layers\n",
    "\n",
    "![image.png](data:image/png;base64,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)\n"
   ]
  },
  {
   "cell_type": "code",
   "execution_count": null,
   "metadata": {
    "id": "cgeH7S81BYYc"
   },
   "outputs": [],
   "source": [
    "# !pip install tensorflow==2.4.1"
   ]
  },
  {
   "cell_type": "code",
   "execution_count": null,
   "metadata": {
    "id": "m2D06a1BEOBm"
   },
   "outputs": [],
   "source": [
    "# early_stopping = tf.keras.callbacks.EarlyStopping(monitor = 'val_accuracy',\n",
    "#                                                   patience = 3)"
   ]
  },
  {
   "cell_type": "code",
   "execution_count": 44,
   "metadata": {
    "id": "NXSAZ-CMEOeW"
   },
   "outputs": [],
   "source": [
    "from datetime import datetime\n"
   ]
  },
  {
   "cell_type": "markdown",
   "metadata": {
    "id": "f0Gnzux9EwXX"
   },
   "source": [
    "## Fitting the Feature Extraction Model\n",
    "\n",
    "* 3 epochs should be enough for the top layers to adjust their weights to our food image data\n",
    "* In order to save time per epoch, it's better to validate on 15% of the data\n",
    "\n",
    "*   List item\n",
    "*   List item\n",
    "\n"
   ]
  },
  {
   "cell_type": "code",
   "execution_count": 45,
   "metadata": {
    "colab": {
     "base_uri": "https://localhost:8080/"
    },
    "id": "tC1pZveb2CCi",
    "outputId": "e6191253-5d81-4f31-bd5e-17285035fd5f"
   },
   "outputs": [
    {
     "name": "stdout",
     "output_type": "stream",
     "text": [
      "Saving TensorBoard log files to: training_logs/efficientnetb0_101_classes_all_data_feature_extract/20231211-142722\n",
      "Epoch 1/3\n",
      "2368/2368 [==============================] - ETA: 0s - loss: nan - accuracy: 0.0099"
     ]
    },
    {
     "name": "stderr",
     "output_type": "stream",
     "text": [
      "2023-12-11 14:37:11.128521: W tensorflow/core/kernels/data/cache_dataset_ops.cc:854] The calling iterator did not fully read the dataset being cached. In order to avoid unexpected truncation of the dataset, the partially cached contents of the dataset  will be discarded. This can happen if you have an input pipeline similar to `dataset.cache().take(k).repeat()`. You should use `dataset.take(k).cache().repeat()` instead.\n"
     ]
    },
    {
     "name": "stdout",
     "output_type": "stream",
     "text": [
      "2368/2368 [==============================] - 603s 253ms/step - loss: nan - accuracy: 0.0099 - val_loss: nan - val_accuracy: 0.0069\n",
      "Epoch 2/3\n",
      "2368/2368 [==============================] - ETA: 0s - loss: nan - accuracy: 0.0099"
     ]
    },
    {
     "name": "stderr",
     "output_type": "stream",
     "text": [
      "2023-12-11 14:47:07.331659: W tensorflow/core/kernels/data/cache_dataset_ops.cc:854] The calling iterator did not fully read the dataset being cached. In order to avoid unexpected truncation of the dataset, the partially cached contents of the dataset  will be discarded. This can happen if you have an input pipeline similar to `dataset.cache().take(k).repeat()`. You should use `dataset.take(k).cache().repeat()` instead.\n"
     ]
    },
    {
     "name": "stdout",
     "output_type": "stream",
     "text": [
      "2368/2368 [==============================] - 598s 253ms/step - loss: nan - accuracy: 0.0099 - val_loss: nan - val_accuracy: 0.0077\n",
      "Epoch 3/3\n",
      "2368/2368 [==============================] - 573s 242ms/step - loss: nan - accuracy: 0.0099 - val_loss: nan - val_accuracy: 0.0074\n"
     ]
    },
    {
     "name": "stderr",
     "output_type": "stream",
     "text": [
      "2023-12-11 14:56:56.661636: W tensorflow/core/kernels/data/cache_dataset_ops.cc:854] The calling iterator did not fully read the dataset being cached. In order to avoid unexpected truncation of the dataset, the partially cached contents of the dataset  will be discarded. This can happen if you have an input pipeline similar to `dataset.cache().take(k).repeat()`. You should use `dataset.take(k).cache().repeat()` instead.\n"
     ]
    }
   ],
   "source": [
    "# Turning off all warnings except for errors\n",
    "tf.get_logger().setLevel('ERROR')\n",
    "\n",
    "# Adjustign TensorBoard Callback\n",
    "tensorboard_callback = create_tensorboard_callback(dir_name=\"training_logs\",\n",
    "                                                   experiment_name=\"efficientnetb0_101_classes_all_data_feature_extract\")\n",
    "\n",
    "history_101_food_classes_feature_extract = model.fit(train_data,\n",
    "                                                     epochs=3,\n",
    "                                                     steps_per_epoch=len(train_data),\n",
    "                                                     validation_data=test_data,\n",
    "                                                     validation_steps=int(0.15 * len(test_data)),\n",
    "                                                     callbacks=[tensorboard_callback, model_checkpoint])\n",
    "\n",
    "# # Fit the feature extraction model with callbacks:\n",
    "# history_101_food_classes_feature_extract = model.fit(train_data,\n",
    "#                                                      epochs=3,\n",
    "#                                                      steps_per_epoch = len(train_data),\n",
    "#                                                      validation_data = test_data,\n",
    "#                                                      validation_steps = int(0.15 * len(test_data)),\n",
    "#                                                      callbacks = [create_tensorboard_callback(dir_name = \"training_logs\",\n",
    "#                                                                                               experiment_name = \"efficientnetb0_101_classes_all_data_feature_extract\"),\n",
    "#                                                                   model_checkpoint])"
   ]
  },
  {
   "cell_type": "code",
   "execution_count": 46,
   "metadata": {
    "colab": {
     "base_uri": "https://localhost:8080/"
    },
    "id": "zntAF2Ha2CIM",
    "outputId": "91420c2d-ee4d-4c9c-fadc-2da85450bec1"
   },
   "outputs": [
    {
     "name": "stdout",
     "output_type": "stream",
     "text": [
      "790/790 [==============================] - 191s 242ms/step - loss: nan - accuracy: 0.0099\n"
     ]
    },
    {
     "data": {
      "text/plain": [
       "[nan, 0.009900989942252636]"
      ]
     },
     "execution_count": 46,
     "metadata": {},
     "output_type": "execute_result"
    }
   ],
   "source": [
    "# Evaluate model on the whole test dataset:\n",
    "results_fetaure_extraction_model = model.evaluate(test_data)\n",
    "results_fetaure_extraction_model  # Evaluating on all the 101 classes!!!"
   ]
  },
  {
   "cell_type": "markdown",
   "metadata": {
    "id": "grMZ8FciEwLS"
   },
   "source": [
    "## Challenge:\n",
    "\n",
    "* Complete the TEMPLATE version of 07 to obtain a computer vision model (building off the one we've built in this notebook) to beat the DeepFood paper.\n",
    "* In other words we're building Food Vision BIG!\n",
    "\n",
    "**NOTEBOOKS TO CHECK OUT**\n",
    "* [Notebook #6](https://github.com/mrdbourke/tensorflow-deep-learning/blob/main/06_transfer_learning_in_tensorflow_part_3_scaling_up.ipynb)\n",
    "* [Template Notebook #7](https://github.com/mrdbourke/tensorflow-deep-learning/blob/main/extras/TEMPLATE_07_food_vision_milestone_project_1.ipynb)\n",
    "\n"
   ]
  },
  {
   "cell_type": "code",
   "execution_count": null,
   "metadata": {
    "id": "wXPH_c2JEwe1"
   },
   "outputs": [],
   "source": [
    "# # pip install pyyaml h5py  # Required to save models in HDF5 format\n",
    "\n",
    "# import os\n",
    "\n",
    "# import tensorflow as tf\n",
    "# from tensorflow import keras\n",
    "\n",
    "# print(tf.version.VERSION)"
   ]
  },
  {
   "cell_type": "code",
   "execution_count": 50,
   "metadata": {
    "colab": {
     "base_uri": "https://localhost:8080/"
    },
    "id": "tVZp8kB6FEQf",
    "outputId": "ae74060a-6ed0-42b1-eddd-73ebd1157745"
   },
   "outputs": [],
   "source": [
    "# from google.colab import drive\n",
    "# drive.mount('/gdrive')\n"
   ]
  },
  {
   "cell_type": "code",
   "execution_count": 48,
   "metadata": {
    "tags": []
   },
   "outputs": [],
   "source": [
    "model.save(\"/Users/rogerlbcn/Documents/ML_Projects/101_Food_Classes_TensorFlow\")"
   ]
  },
  {
   "cell_type": "code",
   "execution_count": null,
   "metadata": {
    "id": "AViVJv_AEwad"
   },
   "outputs": [],
   "source": [
    "### Saving the model to Google Drive: ###\n",
    "\n",
    "# Saving our model to drive so it can be used later:\n",
    "# model.save(\"drive/My Drive/TensorFlow_Course/101_food_classes_milestone_project/101_food_classes_milestone_project_15_percent\")"
   ]
  },
  {
   "cell_type": "code",
   "execution_count": 49,
   "metadata": {
    "id": "vwhYadY3ExN_"
   },
   "outputs": [],
   "source": [
    "# Retrieving previously saved model:\n",
    "saved_model_15_percent = tf.keras.models.load_model('/Users/rogerlbcn/Documents/ML_Projects/101_Food_Classes_TensorFlow')\n"
   ]
  },
  {
   "cell_type": "code",
   "execution_count": 51,
   "metadata": {
    "colab": {
     "base_uri": "https://localhost:8080/"
    },
    "id": "SVuBEUZ-HPUt",
    "outputId": "d4f83cf9-e921-4f4f-a4d4-863d502b07f4"
   },
   "outputs": [
    {
     "name": "stdout",
     "output_type": "stream",
     "text": [
      "<Policy \"mixed_float16\">\n",
      "<Policy \"mixed_float16\">\n"
     ]
    }
   ],
   "source": [
    "# Checking layers in the base model and chekcing what data type policy they use:\n",
    "print(model.dtype_policy)\n",
    "print(saved_model_15_percent.dtype_policy)"
   ]
  },
  {
   "cell_type": "code",
   "execution_count": 52,
   "metadata": {
    "colab": {
     "base_uri": "https://localhost:8080/"
    },
    "id": "AhIqH7nXH8qd",
    "outputId": "e518ee2c-2ae7-4202-9bb1-aa390bf9c9cf"
   },
   "outputs": [
    {
     "name": "stdout",
     "output_type": "stream",
     "text": [
      "input_1 False float32 <Policy \"float32\">\n",
      "rescaling False float32 <Policy \"mixed_float16\">\n",
      "normalization False float32 <Policy \"mixed_float16\">\n",
      "rescaling_1 False float32 <Policy \"mixed_float16\">\n",
      "stem_conv_pad False float32 <Policy \"mixed_float16\">\n",
      "stem_conv False float32 <Policy \"mixed_float16\">\n",
      "stem_bn False float32 <Policy \"mixed_float16\">\n",
      "stem_activation False float32 <Policy \"mixed_float16\">\n",
      "block1a_dwconv False float32 <Policy \"mixed_float16\">\n",
      "block1a_bn False float32 <Policy \"mixed_float16\">\n",
      "block1a_activation False float32 <Policy \"mixed_float16\">\n",
      "block1a_se_squeeze False float32 <Policy \"mixed_float16\">\n",
      "block1a_se_reshape False float32 <Policy \"mixed_float16\">\n",
      "block1a_se_reduce False float32 <Policy \"mixed_float16\">\n",
      "block1a_se_expand False float32 <Policy \"mixed_float16\">\n",
      "block1a_se_excite False float32 <Policy \"mixed_float16\">\n",
      "block1a_project_conv False float32 <Policy \"mixed_float16\">\n",
      "block1a_project_bn False float32 <Policy \"mixed_float16\">\n",
      "block2a_expand_conv False float32 <Policy \"mixed_float16\">\n",
      "block2a_expand_bn False float32 <Policy \"mixed_float16\">\n"
     ]
    }
   ],
   "source": [
    "for layers in model.layers[1].layers[:20]:\n",
    "  print(layers.name, layers.trainable, layers.dtype, layers.dtype_policy)"
   ]
  },
  {
   "cell_type": "code",
   "execution_count": 53,
   "metadata": {
    "colab": {
     "base_uri": "https://localhost:8080/"
    },
    "id": "JpL1YIIhIC2B",
    "outputId": "c00a98d9-40bb-4739-9ab7-6f2e54160f48"
   },
   "outputs": [
    {
     "name": "stdout",
     "output_type": "stream",
     "text": [
      "input_1 True float32 <Policy \"float32\">\n",
      "rescaling False float32 <Policy \"mixed_float16\">\n",
      "normalization False float32 <Policy \"mixed_float16\">\n",
      "rescaling_1 False float32 <Policy \"mixed_float16\">\n",
      "stem_conv_pad False float32 <Policy \"mixed_float16\">\n",
      "stem_conv False float32 <Policy \"mixed_float16\">\n",
      "stem_bn False float32 <Policy \"mixed_float16\">\n",
      "stem_activation False float32 <Policy \"mixed_float16\">\n",
      "block1a_dwconv False float32 <Policy \"mixed_float16\">\n",
      "block1a_bn False float32 <Policy \"mixed_float16\">\n",
      "block1a_activation False float32 <Policy \"mixed_float16\">\n",
      "block1a_se_squeeze False float32 <Policy \"mixed_float16\">\n",
      "block1a_se_reshape False float32 <Policy \"mixed_float16\">\n",
      "block1a_se_reduce False float32 <Policy \"mixed_float16\">\n",
      "block1a_se_expand False float32 <Policy \"mixed_float16\">\n",
      "block1a_se_excite False float32 <Policy \"mixed_float16\">\n",
      "block1a_project_conv False float32 <Policy \"mixed_float16\">\n",
      "block1a_project_bn False float32 <Policy \"mixed_float16\">\n",
      "block2a_expand_conv False float32 <Policy \"mixed_float16\">\n",
      "block2a_expand_bn False float32 <Policy \"mixed_float16\">\n"
     ]
    }
   ],
   "source": [
    "for layers in saved_model_15_percent.layers[1].layers[:20]:\n",
    "  print(layers.name, layers.trainable, layers.dtype, layers.dtype_policy)"
   ]
  },
  {
   "cell_type": "code",
   "execution_count": 54,
   "metadata": {
    "colab": {
     "base_uri": "https://localhost:8080/"
    },
    "id": "DX3Io6APExUk",
    "outputId": "e5fc94f8-907b-4897-fc05-ebd4b0d3cf46"
   },
   "outputs": [
    {
     "name": "stdout",
     "output_type": "stream",
     "text": [
      "790/790 [==============================] - 209s 263ms/step - loss: nan - accuracy: 0.0099\n"
     ]
    }
   ],
   "source": [
    "# Evaluating saved model on test_data. This should give us very similar results to the original model, which is the case.\n",
    "results_extraction_model_saved = saved_model_15_percent.evaluate(test_data)"
   ]
  },
  {
   "cell_type": "code",
   "execution_count": 55,
   "metadata": {
    "colab": {
     "base_uri": "https://localhost:8080/"
    },
    "id": "xWG7VZF0ExlD",
    "outputId": "d9e5e87e-c13a-4241-efd9-7227c0849613"
   },
   "outputs": [
    {
     "name": "stdout",
     "output_type": "stream",
     "text": [
      "790/790 [==============================] - 210s 266ms/step - loss: nan - accuracy: 0.0099\n"
     ]
    }
   ],
   "source": [
    "results_feature_extract_model_original = model.evaluate(test_data)"
   ]
  },
  {
   "cell_type": "markdown",
   "metadata": {
    "id": "biwesXJPIQPp"
   },
   "source": [
    "## Preparing our model's layers for fine-tuning:\n",
    "1. Load and evaluate downloaded GS model\n",
    "2. Get summary and evaluate downloaded GS model\n",
    "3. Check GS model performance (evaluating it on the test dataset)\n",
    "4. Set all the layers trainable variable in the model to True (this way we make sure they are unfrozen)\n",
    "5. Check what dtype_policy the layers in this model have"
   ]
  },
  {
   "cell_type": "code",
   "execution_count": 56,
   "metadata": {
    "id": "j7p1LVPWm5yg"
   },
   "outputs": [],
   "source": [
    "### Mounting Google Drive (connecting notebook to Drive) ###\n",
    "\n",
    "# from google.colab import drive\n",
    "# drive.mount('/gdrive')"
   ]
  },
  {
   "cell_type": "code",
   "execution_count": 58,
   "metadata": {
    "id": "L5sliruKEyfG"
   },
   "outputs": [],
   "source": [
    "\n",
    "# Retrieving previously saved model:\n",
    "saved_model_15_percent = tf.keras.models.load_model('/Users/rogerlbcn/Documents/ML_Projects/101_Food_Classes_TensorFlow')\n"
   ]
  },
  {
   "cell_type": "code",
   "execution_count": 59,
   "metadata": {
    "colab": {
     "base_uri": "https://localhost:8080/"
    },
    "id": "HwPKoeb7Eyhz",
    "outputId": "c70ee2f5-eca7-4a98-f71a-c9626f4ad71a"
   },
   "outputs": [
    {
     "name": "stdout",
     "output_type": "stream",
     "text": [
      "zsh:1: command not found: wget\n",
      "unzip:  cannot find or open 07_efficientnetb0_feature_extract_model_mixed_precision.zip, 07_efficientnetb0_feature_extract_model_mixed_precision.zip.zip or 07_efficientnetb0_feature_extract_model_mixed_precision.zip.ZIP.\n"
     ]
    }
   ],
   "source": [
    "# Download the saved model from Google Storage\n",
    "!wget https://storage.googleapis.com/ztm_tf_course/food_vision/07_efficientnetb0_feature_extract_model_mixed_precision.zip\n",
    "\n",
    "# Unzip the SavedModel downloaded from Google Stroage\n",
    "!mkdir downloaded_gs_model # create new dir to store downloaded feature extraction model\n",
    "!unzip 07_efficientnetb0_feature_extract_model_mixed_precision.zip -d downloaded_gs_model"
   ]
  },
  {
   "cell_type": "code",
   "execution_count": 61,
   "metadata": {
    "colab": {
     "base_uri": "https://localhost:8080/"
    },
    "id": "kVtFl28mEyyD",
    "outputId": "9fb6bc09-df08-4c13-df7b-c2a450083462"
   },
   "outputs": [
    {
     "ename": "OSError",
     "evalue": "No file or directory found at /Users/rogerlbcn/Downloads/downloaded_gs_modeln",
     "output_type": "error",
     "traceback": [
      "\u001b[0;31m---------------------------------------------------------------------------\u001b[0m",
      "\u001b[0;31mOSError\u001b[0m                                   Traceback (most recent call last)",
      "Cell \u001b[0;32mIn[61], line 5\u001b[0m\n\u001b[1;32m      2\u001b[0m model_path \u001b[38;5;241m=\u001b[39m \u001b[38;5;124m\"\u001b[39m\u001b[38;5;124m/Users/rogerlbcn/Downloads/downloaded_gs_modeln\u001b[39m\u001b[38;5;124m\"\u001b[39m\n\u001b[1;32m      4\u001b[0m \u001b[38;5;66;03m# Load GS model:\u001b[39;00m\n\u001b[0;32m----> 5\u001b[0m gs_model \u001b[38;5;241m=\u001b[39m tf\u001b[38;5;241m.\u001b[39mkeras\u001b[38;5;241m.\u001b[39mmodels\u001b[38;5;241m.\u001b[39mload_model(model_path)\n\u001b[1;32m      7\u001b[0m \u001b[38;5;66;03m# Get summary of loaded model:\u001b[39;00m\n\u001b[1;32m      8\u001b[0m gs_model\u001b[38;5;241m.\u001b[39msummary()\n",
      "File \u001b[0;32m~/anaconda3/lib/python3.11/site-packages/keras/src/saving/saving_api.py:238\u001b[0m, in \u001b[0;36mload_model\u001b[0;34m(filepath, custom_objects, compile, safe_mode, **kwargs)\u001b[0m\n\u001b[1;32m    230\u001b[0m     \u001b[38;5;28;01mreturn\u001b[39;00m saving_lib\u001b[38;5;241m.\u001b[39mload_model(\n\u001b[1;32m    231\u001b[0m         filepath,\n\u001b[1;32m    232\u001b[0m         custom_objects\u001b[38;5;241m=\u001b[39mcustom_objects,\n\u001b[1;32m    233\u001b[0m         \u001b[38;5;28mcompile\u001b[39m\u001b[38;5;241m=\u001b[39m\u001b[38;5;28mcompile\u001b[39m,\n\u001b[1;32m    234\u001b[0m         safe_mode\u001b[38;5;241m=\u001b[39msafe_mode,\n\u001b[1;32m    235\u001b[0m     )\n\u001b[1;32m    237\u001b[0m \u001b[38;5;66;03m# Legacy case.\u001b[39;00m\n\u001b[0;32m--> 238\u001b[0m \u001b[38;5;28;01mreturn\u001b[39;00m legacy_sm_saving_lib\u001b[38;5;241m.\u001b[39mload_model(\n\u001b[1;32m    239\u001b[0m     filepath, custom_objects\u001b[38;5;241m=\u001b[39mcustom_objects, \u001b[38;5;28mcompile\u001b[39m\u001b[38;5;241m=\u001b[39m\u001b[38;5;28mcompile\u001b[39m, \u001b[38;5;241m*\u001b[39m\u001b[38;5;241m*\u001b[39mkwargs\n\u001b[1;32m    240\u001b[0m )\n",
      "File \u001b[0;32m~/anaconda3/lib/python3.11/site-packages/keras/src/utils/traceback_utils.py:70\u001b[0m, in \u001b[0;36mfilter_traceback.<locals>.error_handler\u001b[0;34m(*args, **kwargs)\u001b[0m\n\u001b[1;32m     67\u001b[0m     filtered_tb \u001b[38;5;241m=\u001b[39m _process_traceback_frames(e\u001b[38;5;241m.\u001b[39m__traceback__)\n\u001b[1;32m     68\u001b[0m     \u001b[38;5;66;03m# To get the full stack trace, call:\u001b[39;00m\n\u001b[1;32m     69\u001b[0m     \u001b[38;5;66;03m# `tf.debugging.disable_traceback_filtering()`\u001b[39;00m\n\u001b[0;32m---> 70\u001b[0m     \u001b[38;5;28;01mraise\u001b[39;00m e\u001b[38;5;241m.\u001b[39mwith_traceback(filtered_tb) \u001b[38;5;28;01mfrom\u001b[39;00m \u001b[38;5;28;01mNone\u001b[39;00m\n\u001b[1;32m     71\u001b[0m \u001b[38;5;28;01mfinally\u001b[39;00m:\n\u001b[1;32m     72\u001b[0m     \u001b[38;5;28;01mdel\u001b[39;00m filtered_tb\n",
      "File \u001b[0;32m~/anaconda3/lib/python3.11/site-packages/keras/src/saving/legacy/save.py:234\u001b[0m, in \u001b[0;36mload_model\u001b[0;34m(filepath, custom_objects, compile, options)\u001b[0m\n\u001b[1;32m    232\u001b[0m \u001b[38;5;28;01mif\u001b[39;00m \u001b[38;5;28misinstance\u001b[39m(filepath_str, \u001b[38;5;28mstr\u001b[39m):\n\u001b[1;32m    233\u001b[0m     \u001b[38;5;28;01mif\u001b[39;00m \u001b[38;5;129;01mnot\u001b[39;00m tf\u001b[38;5;241m.\u001b[39mio\u001b[38;5;241m.\u001b[39mgfile\u001b[38;5;241m.\u001b[39mexists(filepath_str):\n\u001b[0;32m--> 234\u001b[0m         \u001b[38;5;28;01mraise\u001b[39;00m \u001b[38;5;167;01mIOError\u001b[39;00m(\n\u001b[1;32m    235\u001b[0m             \u001b[38;5;124mf\u001b[39m\u001b[38;5;124m\"\u001b[39m\u001b[38;5;124mNo file or directory found at \u001b[39m\u001b[38;5;132;01m{\u001b[39;00mfilepath_str\u001b[38;5;132;01m}\u001b[39;00m\u001b[38;5;124m\"\u001b[39m\n\u001b[1;32m    236\u001b[0m         )\n\u001b[1;32m    238\u001b[0m     \u001b[38;5;28;01mif\u001b[39;00m tf\u001b[38;5;241m.\u001b[39mio\u001b[38;5;241m.\u001b[39mgfile\u001b[38;5;241m.\u001b[39misdir(filepath_str):\n\u001b[1;32m    239\u001b[0m         \u001b[38;5;28;01mreturn\u001b[39;00m saved_model_load\u001b[38;5;241m.\u001b[39mload(\n\u001b[1;32m    240\u001b[0m             filepath_str, \u001b[38;5;28mcompile\u001b[39m, options\n\u001b[1;32m    241\u001b[0m         )\n",
      "\u001b[0;31mOSError\u001b[0m: No file or directory found at /Users/rogerlbcn/Downloads/downloaded_gs_modeln"
     ]
    }
   ],
   "source": [
    "# Definig path to the saved model:\n",
    "model_path = \"downloaded_gs_model/07_efficientnetb0_feature_extract_model_mixed_precision\"\n",
    "\n",
    "# Load GS model:\n",
    "gs_model = tf.keras.models.load_model(model_path)\n",
    "\n",
    "# Get summary of loaded model:\n",
    "gs_model.summary()"
   ]
  },
  {
   "cell_type": "code",
   "execution_count": null,
   "metadata": {
    "colab": {
     "base_uri": "https://localhost:8080/"
    },
    "id": "cqaLXveYkqav",
    "outputId": "f582fbe8-c579-4ee4-952d-6084153b77b1"
   },
   "outputs": [],
   "source": [
    "saved_model_15_percent.summary()"
   ]
  },
  {
   "cell_type": "code",
   "execution_count": null,
   "metadata": {
    "colab": {
     "base_uri": "https://localhost:8080/"
    },
    "id": "GYYrt_OlEy3T",
    "outputId": "5885edda-94fb-4ee6-b152-bc7e877751fe"
   },
   "outputs": [],
   "source": [
    "saved_model_15_percent.evaluate(test_data)"
   ]
  },
  {
   "cell_type": "code",
   "execution_count": null,
   "metadata": {
    "id": "_XMM0T0Zk5S8"
   },
   "outputs": [],
   "source": [
    "# Unfreeze all trainable layers (setting all layers.trainable = True):\n",
    "saved_model_15_percent.trainable = True\n",
    "\n"
   ]
  },
  {
   "cell_type": "code",
   "execution_count": null,
   "metadata": {
    "colab": {
     "base_uri": "https://localhost:8080/"
    },
    "id": "8pmC27jxEzK8",
    "outputId": "87ebdd04-0cba-4690-9770-7e001b2400b4"
   },
   "outputs": [],
   "source": [
    "saved_model_15_percent.summary()"
   ]
  },
  {
   "cell_type": "code",
   "execution_count": null,
   "metadata": {
    "colab": {
     "base_uri": "https://localhost:8080/"
    },
    "id": "kSRjWrslmdui",
    "outputId": "7a469564-a5f9-4116-d15f-fb9073059312"
   },
   "outputs": [],
   "source": [
    "# Checking what dtype of layers the loaded model has:\n",
    "\n",
    "for layers in saved_model_15_percent.layers:\n",
    "  print(layers.name, layers.trainable, layers.dtype, layers.dtype_policy)"
   ]
  },
  {
   "cell_type": "code",
   "execution_count": null,
   "metadata": {
    "id": "tHEUOXpiqi42"
   },
   "outputs": [],
   "source": [
    "# Set up Early Stopping callback for stopping the model in case the model's val_loss doesn't imporve for 3 epochs\n",
    "# Also, monitor val_loss and stop training if it does not imporoev after 3 epochs\n",
    "# Documentation: https://www.tensorflow.org/api_docs/python/tf/keras/callbacks/EarlyStopping for more\n",
    "\n",
    "early_stopping = tf.keras.callbacks.EarlyStopping(monitor = 'val_loss',\n",
    "                                                  patience = 3)"
   ]
  },
  {
   "cell_type": "code",
   "execution_count": null,
   "metadata": {
    "id": "crvQpP6Iqi7n"
   },
   "outputs": [],
   "source": [
    "# Creating ModelCheckpoint callback (saving the best model during fine-tuning)\n",
    "# Also, monitor val_loss while training and saving the best model, the one with the lowest val_loss!!!\n",
    "# Docuentation: https://www.tensorflow.org/api_docs/python/tf/keras/callbacks/ModelCheckpoint\n",
    "\n",
    "checkpoint_path = \"fine_tuned_model/checkpoints/cp.ckpt\"\n",
    "\n",
    "model_checkpoint = tf.keras.callbacks.ModelCheckpoint(checkpoint_path,\n",
    "                                                      monitor = 'val_loss',\n",
    "                                                      save_best_only = True)"
   ]
  },
  {
   "cell_type": "code",
   "execution_count": null,
   "metadata": {
    "id": "uuVJDPauqi95"
   },
   "outputs": [],
   "source": [
    "saved_model_15_percent.compile(loss = tf.keras.losses.sparse_categorical_crossentropy,       # using sparce_categorical_crossentropy\n",
    "                               optimizer = tf.keras.optimizers.Adam(learning_rate = 0.0001), # setting a learning_rate 10x lower than the default one, becuase we're using fine-tining\n",
    "                               metrics = ['accuracy'])"
   ]
  },
  {
   "cell_type": "code",
   "execution_count": null,
   "metadata": {
    "id": "4hXyZxdfk4S7"
   },
   "outputs": [],
   "source": [
    "# pip install wandb\n",
    "import wandb\n",
    "from wandb.keras import WandbCallback\n",
    "\n"
   ]
  },
  {
   "cell_type": "markdown",
   "metadata": {
    "id": "Zz0Aq6Y8qjAV"
   },
   "source": [
    "## Fine-tuning"
   ]
  },
  {
   "cell_type": "code",
   "execution_count": null,
   "metadata": {
    "colab": {
     "base_uri": "https://localhost:8080/",
     "height": 517
    },
    "id": "I_X_BKx5qjHT",
    "outputId": "f40da27b-be28-44e5-8f93-d3bf3380be59"
   },
   "outputs": [],
   "source": [
    "### Fine-tuning: ###\n",
    "\n",
    "# Initialize wandb\n",
    "wandb.init()\n",
    "\n",
    "# Setting the fine tuned epochs\n",
    "fine_tune_epochs = 100 ### FINE TUNE FOR A MAXIMUM OF 100 EPOCHS!!!\n",
    "\n",
    "# Fiting model:\n",
    "history_saved_model_fine_tuned = saved_model_15_percent.fit(train_data,\n",
    "                                                            epochs = fine_tune_epochs, # 100 epochs\n",
    "                                                            validation_data = test_data,\n",
    "                                                            validation_steps = int(0.15 * len(test_data)), # Validating for 15% of data\n",
    "                                                            callbacks = [early_stopping,\n",
    "                                                                         model_checkpoint,\n",
    "                                                                         create_tensorboard_callback(\"training_logs\",\n",
    "                                                                                                    \"efficientnetb0_101_classes_all_data_feature_extract\"),\n",
    "                                                                         WandbCallback()])\n",
    "\n"
   ]
  },
  {
   "cell_type": "code",
   "execution_count": null,
   "metadata": {
    "id": "TLqz8QyH72dr"
   },
   "outputs": [],
   "source": [
    "# Save model on Google Drive:\n",
    "# saved_model_15_percent_fine_tuned.save('/content/drive/My Drive/TensorFlow_Course/101_food_classes_milestone_project/101_food_classes_milestone_project_15_percent')\n",
    "\n",
    "saved_model_15_percent_fine_tuned = saved_model_15_percent.save('/content/drive/My Drive/TensorFlow_Course/101_food_classes_milestone_project/101_food_classes_milestone_project_15_percent_fine_tuned')\n"
   ]
  },
  {
   "cell_type": "code",
   "execution_count": null,
   "metadata": {
    "id": "czegiydw72ix"
   },
   "outputs": [],
   "source": [
    "# Load model:\n",
    "saved_model_15_percent_fine_tuned = tf.keras.models.load_model('/content/drive/My Drive/TensorFlow_Course/101_food_classes_milestone_project/101_food_classes_milestone_project_15_percent_fine_tuned')\n"
   ]
  },
  {
   "cell_type": "code",
   "execution_count": null,
   "metadata": {
    "colab": {
     "base_uri": "https://localhost:8080/"
    },
    "id": "3Wlqkh6z71CG",
    "outputId": "d663835c-ca6b-4387-99aa-87d1a18693b6"
   },
   "outputs": [],
   "source": [
    "saved_model_15_percent_fine_tuned.evaluate(test_data) # This should beat the paper's (DeepFood) 77.4% top-1 accuracy"
   ]
  },
  {
   "cell_type": "code",
   "execution_count": null,
   "metadata": {
    "colab": {
     "base_uri": "https://localhost:8080/"
    },
    "id": "A0j8DMky71E_",
    "outputId": "3e418528-5257-4eda-ba65-bcd78a70195c"
   },
   "outputs": [],
   "source": [
    "saved_model_15_percent_fine_tuned.summary()"
   ]
  },
  {
   "cell_type": "markdown",
   "metadata": {
    "id": "sNTN3ps2qjMs"
   },
   "source": [
    "# Evaluate the trained model\n",
    "\n",
    "1. Find the precision, recall and f1 scores for each class (all 101).\n",
    "2. Build a confusion matrix for each of the classes.\n",
    "3. Find your model's most wrong predictions (those with the highest prediction probability but the wrong prediction).\n"
   ]
  },
  {
   "cell_type": "code",
   "execution_count": null,
   "metadata": {
    "id": "eqeLM2chBq0Q"
   },
   "outputs": [],
   "source": []
  },
  {
   "cell_type": "code",
   "execution_count": null,
   "metadata": {
    "id": "Tm4WzLsEBq21"
   },
   "outputs": [],
   "source": []
  },
  {
   "cell_type": "code",
   "execution_count": null,
   "metadata": {
    "id": "xTxPR_i5BoQ6"
   },
   "outputs": [],
   "source": []
  },
  {
   "cell_type": "code",
   "execution_count": null,
   "metadata": {
    "id": "1ZBx20SXBoVs"
   },
   "outputs": [],
   "source": []
  },
  {
   "cell_type": "code",
   "execution_count": null,
   "metadata": {
    "id": "R-2Zef96BoYK"
   },
   "outputs": [],
   "source": []
  }
 ],
 "metadata": {
  "accelerator": "GPU",
  "colab": {
   "gpuType": "T4",
   "machine_shape": "hm",
   "provenance": []
  },
  "kernelspec": {
   "display_name": "Python 3 (ipykernel)",
   "language": "python",
   "name": "python3"
  },
  "language_info": {
   "codemirror_mode": {
    "name": "ipython",
    "version": 3
   },
   "file_extension": ".py",
   "mimetype": "text/x-python",
   "name": "python",
   "nbconvert_exporter": "python",
   "pygments_lexer": "ipython3",
   "version": "3.11.5"
  },
  "widgets": {
   "application/vnd.jupyter.widget-state+json": {
    "01156b4d60ed4e3c8ddd517e23e034f2": {
     "model_module": "@jupyter-widgets/base",
     "model_module_version": "1.2.0",
     "model_name": "LayoutModel",
     "state": {
      "_model_module": "@jupyter-widgets/base",
      "_model_module_version": "1.2.0",
      "_model_name": "LayoutModel",
      "_view_count": null,
      "_view_module": "@jupyter-widgets/base",
      "_view_module_version": "1.2.0",
      "_view_name": "LayoutView",
      "align_content": null,
      "align_items": null,
      "align_self": null,
      "border": null,
      "bottom": null,
      "display": null,
      "flex": null,
      "flex_flow": null,
      "grid_area": null,
      "grid_auto_columns": null,
      "grid_auto_flow": null,
      "grid_auto_rows": null,
      "grid_column": null,
      "grid_gap": null,
      "grid_row": null,
      "grid_template_areas": null,
      "grid_template_columns": null,
      "grid_template_rows": null,
      "height": null,
      "justify_content": null,
      "justify_items": null,
      "left": null,
      "margin": null,
      "max_height": null,
      "max_width": null,
      "min_height": null,
      "min_width": null,
      "object_fit": null,
      "object_position": null,
      "order": null,
      "overflow": null,
      "overflow_x": null,
      "overflow_y": null,
      "padding": null,
      "right": null,
      "top": null,
      "visibility": null,
      "width": null
     }
    },
    "042944c6a9064d04b80d4120b05e644f": {
     "model_module": "@jupyter-widgets/controls",
     "model_module_version": "1.5.0",
     "model_name": "HTMLModel",
     "state": {
      "_dom_classes": [],
      "_model_module": "@jupyter-widgets/controls",
      "_model_module_version": "1.5.0",
      "_model_name": "HTMLModel",
      "_view_count": null,
      "_view_module": "@jupyter-widgets/controls",
      "_view_module_version": "1.5.0",
      "_view_name": "HTMLView",
      "description": "",
      "description_tooltip": null,
      "layout": "IPY_MODEL_ce0b698236c34b5f8cb15d1d651d36b0",
      "placeholder": "​",
      "style": "IPY_MODEL_aed128e7637f46b78bd4de98e7d12939",
      "value": "Generating validation examples...:  96%"
     }
    },
    "05ab0f2323e94d6387efa00b7bd5c219": {
     "model_module": "@jupyter-widgets/controls",
     "model_module_version": "1.5.0",
     "model_name": "DescriptionStyleModel",
     "state": {
      "_model_module": "@jupyter-widgets/controls",
      "_model_module_version": "1.5.0",
      "_model_name": "DescriptionStyleModel",
      "_view_count": null,
      "_view_module": "@jupyter-widgets/base",
      "_view_module_version": "1.2.0",
      "_view_name": "StyleView",
      "description_width": ""
     }
    },
    "08d288df739241bdbaa5003085992f1c": {
     "model_module": "@jupyter-widgets/controls",
     "model_module_version": "1.5.0",
     "model_name": "HTMLModel",
     "state": {
      "_dom_classes": [],
      "_model_module": "@jupyter-widgets/controls",
      "_model_module_version": "1.5.0",
      "_model_name": "HTMLModel",
      "_view_count": null,
      "_view_module": "@jupyter-widgets/controls",
      "_view_module_version": "1.5.0",
      "_view_name": "HTMLView",
      "description": "",
      "description_tooltip": null,
      "layout": "IPY_MODEL_60e31d12732f4078b0767f3e23f82907",
      "placeholder": "​",
      "style": "IPY_MODEL_575708dcfb694454a577f85826a14cf3",
      "value": "Shuffling /root/tensorflow_datasets/food101/2.0.0.incomplete9G0SEG/food101-train.tfrecord*...:  99%"
     }
    },
    "0a5666c1e9844e21b936e31bba52eaec": {
     "model_module": "@jupyter-widgets/controls",
     "model_module_version": "1.5.0",
     "model_name": "HTMLModel",
     "state": {
      "_dom_classes": [],
      "_model_module": "@jupyter-widgets/controls",
      "_model_module_version": "1.5.0",
      "_model_name": "HTMLModel",
      "_view_count": null,
      "_view_module": "@jupyter-widgets/controls",
      "_view_module_version": "1.5.0",
      "_view_name": "HTMLView",
      "description": "",
      "description_tooltip": null,
      "layout": "IPY_MODEL_a1fbfcf439f44064b77e197a5bf377d9",
      "placeholder": "​",
      "style": "IPY_MODEL_56c9b846f9964a088469c80c18076b1a",
      "value": "Generating splits...: 100%"
     }
    },
    "0ddb3413e9e04c07a7d42b56b759e1c3": {
     "model_module": "@jupyter-widgets/controls",
     "model_module_version": "1.5.0",
     "model_name": "FloatProgressModel",
     "state": {
      "_dom_classes": [],
      "_model_module": "@jupyter-widgets/controls",
      "_model_module_version": "1.5.0",
      "_model_name": "FloatProgressModel",
      "_view_count": null,
      "_view_module": "@jupyter-widgets/controls",
      "_view_module_version": "1.5.0",
      "_view_name": "ProgressView",
      "bar_style": "",
      "description": "",
      "description_tooltip": null,
      "layout": "IPY_MODEL_3612173ee6454dccab854fa9b3127715",
      "max": 75750,
      "min": 0,
      "orientation": "horizontal",
      "style": "IPY_MODEL_3aa3e38036fe4ac5b1b2dda06614dc0c",
      "value": 75750
     }
    },
    "0f83cb2959e84aefb4d20bf5adb957ac": {
     "model_module": "@jupyter-widgets/controls",
     "model_module_version": "1.5.0",
     "model_name": "HTMLModel",
     "state": {
      "_dom_classes": [],
      "_model_module": "@jupyter-widgets/controls",
      "_model_module_version": "1.5.0",
      "_model_name": "HTMLModel",
      "_view_count": null,
      "_view_module": "@jupyter-widgets/controls",
      "_view_module_version": "1.5.0",
      "_view_name": "HTMLView",
      "description": "",
      "description_tooltip": null,
      "layout": "IPY_MODEL_b0caefc2545a4d8496c418c1645d35ec",
      "placeholder": "​",
      "style": "IPY_MODEL_76797c2ae98c44aea669c4720e5e3674",
      "value": " 73928/75750 [00:37&lt;00:00, 2804.42 examples/s]"
     }
    },
    "12bfdff8f870447d896877a16b8f6b0d": {
     "model_module": "@jupyter-widgets/base",
     "model_module_version": "1.2.0",
     "model_name": "LayoutModel",
     "state": {
      "_model_module": "@jupyter-widgets/base",
      "_model_module_version": "1.2.0",
      "_model_name": "LayoutModel",
      "_view_count": null,
      "_view_module": "@jupyter-widgets/base",
      "_view_module_version": "1.2.0",
      "_view_name": "LayoutView",
      "align_content": null,
      "align_items": null,
      "align_self": null,
      "border": null,
      "bottom": null,
      "display": null,
      "flex": null,
      "flex_flow": null,
      "grid_area": null,
      "grid_auto_columns": null,
      "grid_auto_flow": null,
      "grid_auto_rows": null,
      "grid_column": null,
      "grid_gap": null,
      "grid_row": null,
      "grid_template_areas": null,
      "grid_template_columns": null,
      "grid_template_rows": null,
      "height": null,
      "justify_content": null,
      "justify_items": null,
      "left": null,
      "margin": null,
      "max_height": null,
      "max_width": null,
      "min_height": null,
      "min_width": null,
      "object_fit": null,
      "object_position": null,
      "order": null,
      "overflow": null,
      "overflow_x": null,
      "overflow_y": null,
      "padding": null,
      "right": null,
      "top": null,
      "visibility": null,
      "width": null
     }
    },
    "12da9e76d03a48be9b7783b251ff059a": {
     "model_module": "@jupyter-widgets/controls",
     "model_module_version": "1.5.0",
     "model_name": "HBoxModel",
     "state": {
      "_dom_classes": [],
      "_model_module": "@jupyter-widgets/controls",
      "_model_module_version": "1.5.0",
      "_model_name": "HBoxModel",
      "_view_count": null,
      "_view_module": "@jupyter-widgets/controls",
      "_view_module_version": "1.5.0",
      "_view_name": "HBoxView",
      "box_style": "",
      "children": [
       "IPY_MODEL_6252d1708a3f4504b011d444ef15dca1",
       "IPY_MODEL_3c25904ec36046b49779910e19b2852b",
       "IPY_MODEL_0f83cb2959e84aefb4d20bf5adb957ac"
      ],
      "layout": "IPY_MODEL_be3a243293004c8ca0dabcc31ff40811"
     }
    },
    "13b4421bbc5d446a8ac0afa3b5b7eb00": {
     "model_module": "@jupyter-widgets/controls",
     "model_module_version": "1.5.0",
     "model_name": "HBoxModel",
     "state": {
      "_dom_classes": [],
      "_model_module": "@jupyter-widgets/controls",
      "_model_module_version": "1.5.0",
      "_model_name": "HBoxModel",
      "_view_count": null,
      "_view_module": "@jupyter-widgets/controls",
      "_view_module_version": "1.5.0",
      "_view_name": "HBoxView",
      "box_style": "",
      "children": [
       "IPY_MODEL_042944c6a9064d04b80d4120b05e644f",
       "IPY_MODEL_84c84a33d32a4a578b442e28f498f6c1",
       "IPY_MODEL_aba6347736ab45b39533f26d35787eab"
      ],
      "layout": "IPY_MODEL_3deb8732b1cb45e79d5a289b36355cd1"
     }
    },
    "1663e71055de4049aa591df52f1cd468": {
     "model_module": "@jupyter-widgets/controls",
     "model_module_version": "1.5.0",
     "model_name": "DescriptionStyleModel",
     "state": {
      "_model_module": "@jupyter-widgets/controls",
      "_model_module_version": "1.5.0",
      "_model_name": "DescriptionStyleModel",
      "_view_count": null,
      "_view_module": "@jupyter-widgets/base",
      "_view_module_version": "1.2.0",
      "_view_name": "StyleView",
      "description_width": ""
     }
    },
    "1742e3a689654438822509b534503190": {
     "model_module": "@jupyter-widgets/base",
     "model_module_version": "1.2.0",
     "model_name": "LayoutModel",
     "state": {
      "_model_module": "@jupyter-widgets/base",
      "_model_module_version": "1.2.0",
      "_model_name": "LayoutModel",
      "_view_count": null,
      "_view_module": "@jupyter-widgets/base",
      "_view_module_version": "1.2.0",
      "_view_name": "LayoutView",
      "align_content": null,
      "align_items": null,
      "align_self": null,
      "border": null,
      "bottom": null,
      "display": null,
      "flex": null,
      "flex_flow": null,
      "grid_area": null,
      "grid_auto_columns": null,
      "grid_auto_flow": null,
      "grid_auto_rows": null,
      "grid_column": null,
      "grid_gap": null,
      "grid_row": null,
      "grid_template_areas": null,
      "grid_template_columns": null,
      "grid_template_rows": null,
      "height": null,
      "justify_content": null,
      "justify_items": null,
      "left": null,
      "margin": null,
      "max_height": null,
      "max_width": null,
      "min_height": null,
      "min_width": null,
      "object_fit": null,
      "object_position": null,
      "order": null,
      "overflow": null,
      "overflow_x": null,
      "overflow_y": null,
      "padding": null,
      "right": null,
      "top": null,
      "visibility": null,
      "width": "20px"
     }
    },
    "18b19a7cf7254dd1a4e35954f3e122a1": {
     "model_module": "@jupyter-widgets/controls",
     "model_module_version": "1.5.0",
     "model_name": "HBoxModel",
     "state": {
      "_dom_classes": [],
      "_model_module": "@jupyter-widgets/controls",
      "_model_module_version": "1.5.0",
      "_model_name": "HBoxModel",
      "_view_count": null,
      "_view_module": "@jupyter-widgets/controls",
      "_view_module_version": "1.5.0",
      "_view_name": "HBoxView",
      "box_style": "",
      "children": [
       "IPY_MODEL_0a5666c1e9844e21b936e31bba52eaec",
       "IPY_MODEL_be9d3dfd49cd417999ba40e0ec587123",
       "IPY_MODEL_491e24332d3c48f4bdcd4a876963d211"
      ],
      "layout": "IPY_MODEL_1f5810eafcd34a3c91cc123cf63f134d"
     }
    },
    "197ae4d3d79d4598a9f5daa275f57547": {
     "model_module": "@jupyter-widgets/controls",
     "model_module_version": "1.5.0",
     "model_name": "FloatProgressModel",
     "state": {
      "_dom_classes": [],
      "_model_module": "@jupyter-widgets/controls",
      "_model_module_version": "1.5.0",
      "_model_name": "FloatProgressModel",
      "_view_count": null,
      "_view_module": "@jupyter-widgets/controls",
      "_view_module_version": "1.5.0",
      "_view_name": "ProgressView",
      "bar_style": "",
      "description": "",
      "description_tooltip": null,
      "layout": "IPY_MODEL_fc17b2d953b14ca080471508aa1ed261",
      "max": 25250,
      "min": 0,
      "orientation": "horizontal",
      "style": "IPY_MODEL_68ed3cbeba79443d8e89d6dae44f3430",
      "value": 25250
     }
    },
    "1b4adb1d3f70438b8e80ce65dc5f3919": {
     "model_module": "@jupyter-widgets/base",
     "model_module_version": "1.2.0",
     "model_name": "LayoutModel",
     "state": {
      "_model_module": "@jupyter-widgets/base",
      "_model_module_version": "1.2.0",
      "_model_name": "LayoutModel",
      "_view_count": null,
      "_view_module": "@jupyter-widgets/base",
      "_view_module_version": "1.2.0",
      "_view_name": "LayoutView",
      "align_content": null,
      "align_items": null,
      "align_self": null,
      "border": null,
      "bottom": null,
      "display": null,
      "flex": null,
      "flex_flow": null,
      "grid_area": null,
      "grid_auto_columns": null,
      "grid_auto_flow": null,
      "grid_auto_rows": null,
      "grid_column": null,
      "grid_gap": null,
      "grid_row": null,
      "grid_template_areas": null,
      "grid_template_columns": null,
      "grid_template_rows": null,
      "height": null,
      "justify_content": null,
      "justify_items": null,
      "left": null,
      "margin": null,
      "max_height": null,
      "max_width": null,
      "min_height": null,
      "min_width": null,
      "object_fit": null,
      "object_position": null,
      "order": null,
      "overflow": null,
      "overflow_x": null,
      "overflow_y": null,
      "padding": null,
      "right": null,
      "top": null,
      "visibility": "hidden",
      "width": null
     }
    },
    "1df29642ff4c4dd8aaa51016f81577fa": {
     "model_module": "@jupyter-widgets/base",
     "model_module_version": "1.2.0",
     "model_name": "LayoutModel",
     "state": {
      "_model_module": "@jupyter-widgets/base",
      "_model_module_version": "1.2.0",
      "_model_name": "LayoutModel",
      "_view_count": null,
      "_view_module": "@jupyter-widgets/base",
      "_view_module_version": "1.2.0",
      "_view_name": "LayoutView",
      "align_content": null,
      "align_items": null,
      "align_self": null,
      "border": null,
      "bottom": null,
      "display": null,
      "flex": null,
      "flex_flow": null,
      "grid_area": null,
      "grid_auto_columns": null,
      "grid_auto_flow": null,
      "grid_auto_rows": null,
      "grid_column": null,
      "grid_gap": null,
      "grid_row": null,
      "grid_template_areas": null,
      "grid_template_columns": null,
      "grid_template_rows": null,
      "height": null,
      "justify_content": null,
      "justify_items": null,
      "left": null,
      "margin": null,
      "max_height": null,
      "max_width": null,
      "min_height": null,
      "min_width": null,
      "object_fit": null,
      "object_position": null,
      "order": null,
      "overflow": null,
      "overflow_x": null,
      "overflow_y": null,
      "padding": null,
      "right": null,
      "top": null,
      "visibility": null,
      "width": null
     }
    },
    "1e08d6d8a7de45d4a5028ac2704bd15a": {
     "model_module": "@jupyter-widgets/base",
     "model_module_version": "1.2.0",
     "model_name": "LayoutModel",
     "state": {
      "_model_module": "@jupyter-widgets/base",
      "_model_module_version": "1.2.0",
      "_model_name": "LayoutModel",
      "_view_count": null,
      "_view_module": "@jupyter-widgets/base",
      "_view_module_version": "1.2.0",
      "_view_name": "LayoutView",
      "align_content": null,
      "align_items": null,
      "align_self": null,
      "border": null,
      "bottom": null,
      "display": null,
      "flex": null,
      "flex_flow": null,
      "grid_area": null,
      "grid_auto_columns": null,
      "grid_auto_flow": null,
      "grid_auto_rows": null,
      "grid_column": null,
      "grid_gap": null,
      "grid_row": null,
      "grid_template_areas": null,
      "grid_template_columns": null,
      "grid_template_rows": null,
      "height": null,
      "justify_content": null,
      "justify_items": null,
      "left": null,
      "margin": null,
      "max_height": null,
      "max_width": null,
      "min_height": null,
      "min_width": null,
      "object_fit": null,
      "object_position": null,
      "order": null,
      "overflow": null,
      "overflow_x": null,
      "overflow_y": null,
      "padding": null,
      "right": null,
      "top": null,
      "visibility": null,
      "width": "20px"
     }
    },
    "1f5810eafcd34a3c91cc123cf63f134d": {
     "model_module": "@jupyter-widgets/base",
     "model_module_version": "1.2.0",
     "model_name": "LayoutModel",
     "state": {
      "_model_module": "@jupyter-widgets/base",
      "_model_module_version": "1.2.0",
      "_model_name": "LayoutModel",
      "_view_count": null,
      "_view_module": "@jupyter-widgets/base",
      "_view_module_version": "1.2.0",
      "_view_name": "LayoutView",
      "align_content": null,
      "align_items": null,
      "align_self": null,
      "border": null,
      "bottom": null,
      "display": null,
      "flex": null,
      "flex_flow": null,
      "grid_area": null,
      "grid_auto_columns": null,
      "grid_auto_flow": null,
      "grid_auto_rows": null,
      "grid_column": null,
      "grid_gap": null,
      "grid_row": null,
      "grid_template_areas": null,
      "grid_template_columns": null,
      "grid_template_rows": null,
      "height": null,
      "justify_content": null,
      "justify_items": null,
      "left": null,
      "margin": null,
      "max_height": null,
      "max_width": null,
      "min_height": null,
      "min_width": null,
      "object_fit": null,
      "object_position": null,
      "order": null,
      "overflow": null,
      "overflow_x": null,
      "overflow_y": null,
      "padding": null,
      "right": null,
      "top": null,
      "visibility": "hidden",
      "width": null
     }
    },
    "218008b5f88c499986ca39cf43defebb": {
     "model_module": "@jupyter-widgets/controls",
     "model_module_version": "1.5.0",
     "model_name": "HTMLModel",
     "state": {
      "_dom_classes": [],
      "_model_module": "@jupyter-widgets/controls",
      "_model_module_version": "1.5.0",
      "_model_name": "HTMLModel",
      "_view_count": null,
      "_view_module": "@jupyter-widgets/controls",
      "_view_module_version": "1.5.0",
      "_view_name": "HTMLView",
      "description": "",
      "description_tooltip": null,
      "layout": "IPY_MODEL_975de2fff1314fb98edc14dcc501f838",
      "placeholder": "​",
      "style": "IPY_MODEL_8fdcc0e836434ed0b562ca7211de97da",
      "value": " 101008/101008 [07:16&lt;00:00, 3546.16 file/s]"
     }
    },
    "25385c0d4bfb44adb5d25a543951eab6": {
     "model_module": "@jupyter-widgets/base",
     "model_module_version": "1.2.0",
     "model_name": "LayoutModel",
     "state": {
      "_model_module": "@jupyter-widgets/base",
      "_model_module_version": "1.2.0",
      "_model_name": "LayoutModel",
      "_view_count": null,
      "_view_module": "@jupyter-widgets/base",
      "_view_module_version": "1.2.0",
      "_view_name": "LayoutView",
      "align_content": null,
      "align_items": null,
      "align_self": null,
      "border": null,
      "bottom": null,
      "display": null,
      "flex": null,
      "flex_flow": null,
      "grid_area": null,
      "grid_auto_columns": null,
      "grid_auto_flow": null,
      "grid_auto_rows": null,
      "grid_column": null,
      "grid_gap": null,
      "grid_row": null,
      "grid_template_areas": null,
      "grid_template_columns": null,
      "grid_template_rows": null,
      "height": null,
      "justify_content": null,
      "justify_items": null,
      "left": null,
      "margin": null,
      "max_height": null,
      "max_width": null,
      "min_height": null,
      "min_width": null,
      "object_fit": null,
      "object_position": null,
      "order": null,
      "overflow": null,
      "overflow_x": null,
      "overflow_y": null,
      "padding": null,
      "right": null,
      "top": null,
      "visibility": null,
      "width": null
     }
    },
    "282b3ce774f54727b0efc70c9aae0d8c": {
     "model_module": "@jupyter-widgets/base",
     "model_module_version": "1.2.0",
     "model_name": "LayoutModel",
     "state": {
      "_model_module": "@jupyter-widgets/base",
      "_model_module_version": "1.2.0",
      "_model_name": "LayoutModel",
      "_view_count": null,
      "_view_module": "@jupyter-widgets/base",
      "_view_module_version": "1.2.0",
      "_view_name": "LayoutView",
      "align_content": null,
      "align_items": null,
      "align_self": null,
      "border": null,
      "bottom": null,
      "display": null,
      "flex": null,
      "flex_flow": null,
      "grid_area": null,
      "grid_auto_columns": null,
      "grid_auto_flow": null,
      "grid_auto_rows": null,
      "grid_column": null,
      "grid_gap": null,
      "grid_row": null,
      "grid_template_areas": null,
      "grid_template_columns": null,
      "grid_template_rows": null,
      "height": null,
      "justify_content": null,
      "justify_items": null,
      "left": null,
      "margin": null,
      "max_height": null,
      "max_width": null,
      "min_height": null,
      "min_width": null,
      "object_fit": null,
      "object_position": null,
      "order": null,
      "overflow": null,
      "overflow_x": null,
      "overflow_y": null,
      "padding": null,
      "right": null,
      "top": null,
      "visibility": null,
      "width": null
     }
    },
    "283b15cd3e974689829b848ab0bd3c0a": {
     "model_module": "@jupyter-widgets/controls",
     "model_module_version": "1.5.0",
     "model_name": "FloatProgressModel",
     "state": {
      "_dom_classes": [],
      "_model_module": "@jupyter-widgets/controls",
      "_model_module_version": "1.5.0",
      "_model_name": "FloatProgressModel",
      "_view_count": null,
      "_view_module": "@jupyter-widgets/controls",
      "_view_module_version": "1.5.0",
      "_view_name": "ProgressView",
      "bar_style": "success",
      "description": "",
      "description_tooltip": null,
      "layout": "IPY_MODEL_1e08d6d8a7de45d4a5028ac2704bd15a",
      "max": 1,
      "min": 0,
      "orientation": "horizontal",
      "style": "IPY_MODEL_335c9797a9ef4e2b83e21f95c62f53bb",
      "value": 1
     }
    },
    "2a9c296474994d2d857548aa3068acfa": {
     "model_module": "@jupyter-widgets/controls",
     "model_module_version": "1.5.0",
     "model_name": "HTMLModel",
     "state": {
      "_dom_classes": [],
      "_model_module": "@jupyter-widgets/controls",
      "_model_module_version": "1.5.0",
      "_model_name": "HTMLModel",
      "_view_count": null,
      "_view_module": "@jupyter-widgets/controls",
      "_view_module_version": "1.5.0",
      "_view_name": "HTMLView",
      "description": "",
      "description_tooltip": null,
      "layout": "IPY_MODEL_a663b630ff70415eba5932d9de0f9721",
      "placeholder": "​",
      "style": "IPY_MODEL_6869e6aeb1eb46ae940d491ae942cd74",
      "value": "Shuffling /root/tensorflow_datasets/food101/2.0.0.incomplete9G0SEG/food101-validation.tfrecord*...:  99%"
     }
    },
    "335c9797a9ef4e2b83e21f95c62f53bb": {
     "model_module": "@jupyter-widgets/controls",
     "model_module_version": "1.5.0",
     "model_name": "ProgressStyleModel",
     "state": {
      "_model_module": "@jupyter-widgets/controls",
      "_model_module_version": "1.5.0",
      "_model_name": "ProgressStyleModel",
      "_view_count": null,
      "_view_module": "@jupyter-widgets/base",
      "_view_module_version": "1.2.0",
      "_view_name": "StyleView",
      "bar_color": null,
      "description_width": ""
     }
    },
    "3612173ee6454dccab854fa9b3127715": {
     "model_module": "@jupyter-widgets/base",
     "model_module_version": "1.2.0",
     "model_name": "LayoutModel",
     "state": {
      "_model_module": "@jupyter-widgets/base",
      "_model_module_version": "1.2.0",
      "_model_name": "LayoutModel",
      "_view_count": null,
      "_view_module": "@jupyter-widgets/base",
      "_view_module_version": "1.2.0",
      "_view_name": "LayoutView",
      "align_content": null,
      "align_items": null,
      "align_self": null,
      "border": null,
      "bottom": null,
      "display": null,
      "flex": null,
      "flex_flow": null,
      "grid_area": null,
      "grid_auto_columns": null,
      "grid_auto_flow": null,
      "grid_auto_rows": null,
      "grid_column": null,
      "grid_gap": null,
      "grid_row": null,
      "grid_template_areas": null,
      "grid_template_columns": null,
      "grid_template_rows": null,
      "height": null,
      "justify_content": null,
      "justify_items": null,
      "left": null,
      "margin": null,
      "max_height": null,
      "max_width": null,
      "min_height": null,
      "min_width": null,
      "object_fit": null,
      "object_position": null,
      "order": null,
      "overflow": null,
      "overflow_x": null,
      "overflow_y": null,
      "padding": null,
      "right": null,
      "top": null,
      "visibility": null,
      "width": null
     }
    },
    "3aa3e38036fe4ac5b1b2dda06614dc0c": {
     "model_module": "@jupyter-widgets/controls",
     "model_module_version": "1.5.0",
     "model_name": "ProgressStyleModel",
     "state": {
      "_model_module": "@jupyter-widgets/controls",
      "_model_module_version": "1.5.0",
      "_model_name": "ProgressStyleModel",
      "_view_count": null,
      "_view_module": "@jupyter-widgets/base",
      "_view_module_version": "1.2.0",
      "_view_name": "StyleView",
      "bar_color": null,
      "description_width": ""
     }
    },
    "3c25904ec36046b49779910e19b2852b": {
     "model_module": "@jupyter-widgets/controls",
     "model_module_version": "1.5.0",
     "model_name": "FloatProgressModel",
     "state": {
      "_dom_classes": [],
      "_model_module": "@jupyter-widgets/controls",
      "_model_module_version": "1.5.0",
      "_model_name": "FloatProgressModel",
      "_view_count": null,
      "_view_module": "@jupyter-widgets/controls",
      "_view_module_version": "1.5.0",
      "_view_name": "ProgressView",
      "bar_style": "",
      "description": "",
      "description_tooltip": null,
      "layout": "IPY_MODEL_ff67a1ded7ff468d840c734946a03eb0",
      "max": 75750,
      "min": 0,
      "orientation": "horizontal",
      "style": "IPY_MODEL_91c35f430f9d43d98c5b46689bd79d69",
      "value": 75750
     }
    },
    "3c998e7d9468458ba7bd50d4d0f6a02b": {
     "model_module": "@jupyter-widgets/controls",
     "model_module_version": "1.5.0",
     "model_name": "DescriptionStyleModel",
     "state": {
      "_model_module": "@jupyter-widgets/controls",
      "_model_module_version": "1.5.0",
      "_model_name": "DescriptionStyleModel",
      "_view_count": null,
      "_view_module": "@jupyter-widgets/base",
      "_view_module_version": "1.2.0",
      "_view_name": "StyleView",
      "description_width": ""
     }
    },
    "3ce470bec2fb4c9aa258da085e40e0c0": {
     "model_module": "@jupyter-widgets/controls",
     "model_module_version": "1.5.0",
     "model_name": "HBoxModel",
     "state": {
      "_dom_classes": [],
      "_model_module": "@jupyter-widgets/controls",
      "_model_module_version": "1.5.0",
      "_model_name": "HBoxModel",
      "_view_count": null,
      "_view_module": "@jupyter-widgets/controls",
      "_view_module_version": "1.5.0",
      "_view_name": "HBoxView",
      "box_style": "",
      "children": [
       "IPY_MODEL_979b4ad81c4841bb93cab1a44253f374",
       "IPY_MODEL_85ae67481d424f3d99f633367fb28279",
       "IPY_MODEL_dab83413e4394424b8d4e42ceda2a116"
      ],
      "layout": "IPY_MODEL_12bfdff8f870447d896877a16b8f6b0d"
     }
    },
    "3deb8732b1cb45e79d5a289b36355cd1": {
     "model_module": "@jupyter-widgets/base",
     "model_module_version": "1.2.0",
     "model_name": "LayoutModel",
     "state": {
      "_model_module": "@jupyter-widgets/base",
      "_model_module_version": "1.2.0",
      "_model_name": "LayoutModel",
      "_view_count": null,
      "_view_module": "@jupyter-widgets/base",
      "_view_module_version": "1.2.0",
      "_view_name": "LayoutView",
      "align_content": null,
      "align_items": null,
      "align_self": null,
      "border": null,
      "bottom": null,
      "display": null,
      "flex": null,
      "flex_flow": null,
      "grid_area": null,
      "grid_auto_columns": null,
      "grid_auto_flow": null,
      "grid_auto_rows": null,
      "grid_column": null,
      "grid_gap": null,
      "grid_row": null,
      "grid_template_areas": null,
      "grid_template_columns": null,
      "grid_template_rows": null,
      "height": null,
      "justify_content": null,
      "justify_items": null,
      "left": null,
      "margin": null,
      "max_height": null,
      "max_width": null,
      "min_height": null,
      "min_width": null,
      "object_fit": null,
      "object_position": null,
      "order": null,
      "overflow": null,
      "overflow_x": null,
      "overflow_y": null,
      "padding": null,
      "right": null,
      "top": null,
      "visibility": "hidden",
      "width": null
     }
    },
    "43b02fca99074b3d8e6dca46fb61a2b7": {
     "model_module": "@jupyter-widgets/controls",
     "model_module_version": "1.5.0",
     "model_name": "DescriptionStyleModel",
     "state": {
      "_model_module": "@jupyter-widgets/controls",
      "_model_module_version": "1.5.0",
      "_model_name": "DescriptionStyleModel",
      "_view_count": null,
      "_view_module": "@jupyter-widgets/base",
      "_view_module_version": "1.2.0",
      "_view_name": "StyleView",
      "description_width": ""
     }
    },
    "45f3b5d3314746a08cb40326f12d5ae9": {
     "model_module": "@jupyter-widgets/controls",
     "model_module_version": "1.5.0",
     "model_name": "ProgressStyleModel",
     "state": {
      "_model_module": "@jupyter-widgets/controls",
      "_model_module_version": "1.5.0",
      "_model_name": "ProgressStyleModel",
      "_view_count": null,
      "_view_module": "@jupyter-widgets/base",
      "_view_module_version": "1.2.0",
      "_view_name": "StyleView",
      "bar_color": null,
      "description_width": ""
     }
    },
    "48577e88dec84d13b4371435a3cb5b6e": {
     "model_module": "@jupyter-widgets/controls",
     "model_module_version": "1.5.0",
     "model_name": "ProgressStyleModel",
     "state": {
      "_model_module": "@jupyter-widgets/controls",
      "_model_module_version": "1.5.0",
      "_model_name": "ProgressStyleModel",
      "_view_count": null,
      "_view_module": "@jupyter-widgets/base",
      "_view_module_version": "1.2.0",
      "_view_name": "StyleView",
      "bar_color": null,
      "description_width": ""
     }
    },
    "491e24332d3c48f4bdcd4a876963d211": {
     "model_module": "@jupyter-widgets/controls",
     "model_module_version": "1.5.0",
     "model_name": "HTMLModel",
     "state": {
      "_dom_classes": [],
      "_model_module": "@jupyter-widgets/controls",
      "_model_module_version": "1.5.0",
      "_model_name": "HTMLModel",
      "_view_count": null,
      "_view_module": "@jupyter-widgets/controls",
      "_view_module_version": "1.5.0",
      "_view_name": "HTMLView",
      "description": "",
      "description_tooltip": null,
      "layout": "IPY_MODEL_c61874af41f248fba022c09cd1a42b45",
      "placeholder": "​",
      "style": "IPY_MODEL_78f3f2ff53ca4150b34a381406de80bd",
      "value": " 2/2 [01:07&lt;00:00, 29.95s/ splits]"
     }
    },
    "4dc103257dd64d2ead43f1a7a9036d53": {
     "model_module": "@jupyter-widgets/controls",
     "model_module_version": "1.5.0",
     "model_name": "DescriptionStyleModel",
     "state": {
      "_model_module": "@jupyter-widgets/controls",
      "_model_module_version": "1.5.0",
      "_model_name": "DescriptionStyleModel",
      "_view_count": null,
      "_view_module": "@jupyter-widgets/base",
      "_view_module_version": "1.2.0",
      "_view_name": "StyleView",
      "description_width": ""
     }
    },
    "5012764b0caf4626ac6d8379b528f2a9": {
     "model_module": "@jupyter-widgets/base",
     "model_module_version": "1.2.0",
     "model_name": "LayoutModel",
     "state": {
      "_model_module": "@jupyter-widgets/base",
      "_model_module_version": "1.2.0",
      "_model_name": "LayoutModel",
      "_view_count": null,
      "_view_module": "@jupyter-widgets/base",
      "_view_module_version": "1.2.0",
      "_view_name": "LayoutView",
      "align_content": null,
      "align_items": null,
      "align_self": null,
      "border": null,
      "bottom": null,
      "display": null,
      "flex": null,
      "flex_flow": null,
      "grid_area": null,
      "grid_auto_columns": null,
      "grid_auto_flow": null,
      "grid_auto_rows": null,
      "grid_column": null,
      "grid_gap": null,
      "grid_row": null,
      "grid_template_areas": null,
      "grid_template_columns": null,
      "grid_template_rows": null,
      "height": null,
      "justify_content": null,
      "justify_items": null,
      "left": null,
      "margin": null,
      "max_height": null,
      "max_width": null,
      "min_height": null,
      "min_width": null,
      "object_fit": null,
      "object_position": null,
      "order": null,
      "overflow": null,
      "overflow_x": null,
      "overflow_y": null,
      "padding": null,
      "right": null,
      "top": null,
      "visibility": null,
      "width": null
     }
    },
    "56670393f0e0419b89513e0579096a99": {
     "model_module": "@jupyter-widgets/controls",
     "model_module_version": "1.5.0",
     "model_name": "HBoxModel",
     "state": {
      "_dom_classes": [],
      "_model_module": "@jupyter-widgets/controls",
      "_model_module_version": "1.5.0",
      "_model_name": "HBoxModel",
      "_view_count": null,
      "_view_module": "@jupyter-widgets/controls",
      "_view_module_version": "1.5.0",
      "_view_name": "HBoxView",
      "box_style": "",
      "children": [
       "IPY_MODEL_08d288df739241bdbaa5003085992f1c",
       "IPY_MODEL_0ddb3413e9e04c07a7d42b56b759e1c3",
       "IPY_MODEL_5ee772e0611044c6b4317626a713a779"
      ],
      "layout": "IPY_MODEL_5a01355657a04781a1592960ddf15072"
     }
    },
    "56c9b846f9964a088469c80c18076b1a": {
     "model_module": "@jupyter-widgets/controls",
     "model_module_version": "1.5.0",
     "model_name": "DescriptionStyleModel",
     "state": {
      "_model_module": "@jupyter-widgets/controls",
      "_model_module_version": "1.5.0",
      "_model_name": "DescriptionStyleModel",
      "_view_count": null,
      "_view_module": "@jupyter-widgets/base",
      "_view_module_version": "1.2.0",
      "_view_name": "StyleView",
      "description_width": ""
     }
    },
    "575708dcfb694454a577f85826a14cf3": {
     "model_module": "@jupyter-widgets/controls",
     "model_module_version": "1.5.0",
     "model_name": "DescriptionStyleModel",
     "state": {
      "_model_module": "@jupyter-widgets/controls",
      "_model_module_version": "1.5.0",
      "_model_name": "DescriptionStyleModel",
      "_view_count": null,
      "_view_module": "@jupyter-widgets/base",
      "_view_module_version": "1.2.0",
      "_view_name": "StyleView",
      "description_width": ""
     }
    },
    "5a01355657a04781a1592960ddf15072": {
     "model_module": "@jupyter-widgets/base",
     "model_module_version": "1.2.0",
     "model_name": "LayoutModel",
     "state": {
      "_model_module": "@jupyter-widgets/base",
      "_model_module_version": "1.2.0",
      "_model_name": "LayoutModel",
      "_view_count": null,
      "_view_module": "@jupyter-widgets/base",
      "_view_module_version": "1.2.0",
      "_view_name": "LayoutView",
      "align_content": null,
      "align_items": null,
      "align_self": null,
      "border": null,
      "bottom": null,
      "display": null,
      "flex": null,
      "flex_flow": null,
      "grid_area": null,
      "grid_auto_columns": null,
      "grid_auto_flow": null,
      "grid_auto_rows": null,
      "grid_column": null,
      "grid_gap": null,
      "grid_row": null,
      "grid_template_areas": null,
      "grid_template_columns": null,
      "grid_template_rows": null,
      "height": null,
      "justify_content": null,
      "justify_items": null,
      "left": null,
      "margin": null,
      "max_height": null,
      "max_width": null,
      "min_height": null,
      "min_width": null,
      "object_fit": null,
      "object_position": null,
      "order": null,
      "overflow": null,
      "overflow_x": null,
      "overflow_y": null,
      "padding": null,
      "right": null,
      "top": null,
      "visibility": "hidden",
      "width": null
     }
    },
    "5ee772e0611044c6b4317626a713a779": {
     "model_module": "@jupyter-widgets/controls",
     "model_module_version": "1.5.0",
     "model_name": "HTMLModel",
     "state": {
      "_dom_classes": [],
      "_model_module": "@jupyter-widgets/controls",
      "_model_module_version": "1.5.0",
      "_model_name": "HTMLModel",
      "_view_count": null,
      "_view_module": "@jupyter-widgets/controls",
      "_view_module_version": "1.5.0",
      "_view_name": "HTMLView",
      "description": "",
      "description_tooltip": null,
      "layout": "IPY_MODEL_c7287a92f0514a8482ba7930a455a51a",
      "placeholder": "​",
      "style": "IPY_MODEL_1663e71055de4049aa591df52f1cd468",
      "value": " 75312/75750 [00:10&lt;00:00, 5471.70 examples/s]"
     }
    },
    "6007a3aa81eb4f3286dd5d739417ddd5": {
     "model_module": "@jupyter-widgets/controls",
     "model_module_version": "1.5.0",
     "model_name": "HTMLModel",
     "state": {
      "_dom_classes": [],
      "_model_module": "@jupyter-widgets/controls",
      "_model_module_version": "1.5.0",
      "_model_name": "HTMLModel",
      "_view_count": null,
      "_view_module": "@jupyter-widgets/controls",
      "_view_module_version": "1.5.0",
      "_view_name": "HTMLView",
      "description": "",
      "description_tooltip": null,
      "layout": "IPY_MODEL_5012764b0caf4626ac6d8379b528f2a9",
      "placeholder": "​",
      "style": "IPY_MODEL_765f42f26aba4db280a2040e6b926d5b",
      "value": " 4764/4764 [07:16&lt;00:00, 20.77 MiB/s]"
     }
    },
    "60e31d12732f4078b0767f3e23f82907": {
     "model_module": "@jupyter-widgets/base",
     "model_module_version": "1.2.0",
     "model_name": "LayoutModel",
     "state": {
      "_model_module": "@jupyter-widgets/base",
      "_model_module_version": "1.2.0",
      "_model_name": "LayoutModel",
      "_view_count": null,
      "_view_module": "@jupyter-widgets/base",
      "_view_module_version": "1.2.0",
      "_view_name": "LayoutView",
      "align_content": null,
      "align_items": null,
      "align_self": null,
      "border": null,
      "bottom": null,
      "display": null,
      "flex": null,
      "flex_flow": null,
      "grid_area": null,
      "grid_auto_columns": null,
      "grid_auto_flow": null,
      "grid_auto_rows": null,
      "grid_column": null,
      "grid_gap": null,
      "grid_row": null,
      "grid_template_areas": null,
      "grid_template_columns": null,
      "grid_template_rows": null,
      "height": null,
      "justify_content": null,
      "justify_items": null,
      "left": null,
      "margin": null,
      "max_height": null,
      "max_width": null,
      "min_height": null,
      "min_width": null,
      "object_fit": null,
      "object_position": null,
      "order": null,
      "overflow": null,
      "overflow_x": null,
      "overflow_y": null,
      "padding": null,
      "right": null,
      "top": null,
      "visibility": null,
      "width": null
     }
    },
    "6178f99fb9734234be65278c1d0eb089": {
     "model_module": "@jupyter-widgets/controls",
     "model_module_version": "1.5.0",
     "model_name": "HBoxModel",
     "state": {
      "_dom_classes": [],
      "_model_module": "@jupyter-widgets/controls",
      "_model_module_version": "1.5.0",
      "_model_name": "HBoxModel",
      "_view_count": null,
      "_view_module": "@jupyter-widgets/controls",
      "_view_module_version": "1.5.0",
      "_view_name": "HBoxView",
      "box_style": "",
      "children": [
       "IPY_MODEL_d876447d34c745739c11a365cb301e3e",
       "IPY_MODEL_d3a0db7dd6a446a785c340720b98f7ca",
       "IPY_MODEL_218008b5f88c499986ca39cf43defebb"
      ],
      "layout": "IPY_MODEL_71947a1554284271b0ed067b97dceeff"
     }
    },
    "6252d1708a3f4504b011d444ef15dca1": {
     "model_module": "@jupyter-widgets/controls",
     "model_module_version": "1.5.0",
     "model_name": "HTMLModel",
     "state": {
      "_dom_classes": [],
      "_model_module": "@jupyter-widgets/controls",
      "_model_module_version": "1.5.0",
      "_model_name": "HTMLModel",
      "_view_count": null,
      "_view_module": "@jupyter-widgets/controls",
      "_view_module_version": "1.5.0",
      "_view_name": "HTMLView",
      "description": "",
      "description_tooltip": null,
      "layout": "IPY_MODEL_f61a13a5f0c54dd1971465212195abcb",
      "placeholder": "​",
      "style": "IPY_MODEL_43b02fca99074b3d8e6dca46fb61a2b7",
      "value": "Generating train examples...:  98%"
     }
    },
    "6869e6aeb1eb46ae940d491ae942cd74": {
     "model_module": "@jupyter-widgets/controls",
     "model_module_version": "1.5.0",
     "model_name": "DescriptionStyleModel",
     "state": {
      "_model_module": "@jupyter-widgets/controls",
      "_model_module_version": "1.5.0",
      "_model_name": "DescriptionStyleModel",
      "_view_count": null,
      "_view_module": "@jupyter-widgets/base",
      "_view_module_version": "1.2.0",
      "_view_name": "StyleView",
      "description_width": ""
     }
    },
    "68ed3cbeba79443d8e89d6dae44f3430": {
     "model_module": "@jupyter-widgets/controls",
     "model_module_version": "1.5.0",
     "model_name": "ProgressStyleModel",
     "state": {
      "_model_module": "@jupyter-widgets/controls",
      "_model_module_version": "1.5.0",
      "_model_name": "ProgressStyleModel",
      "_view_count": null,
      "_view_module": "@jupyter-widgets/base",
      "_view_module_version": "1.2.0",
      "_view_name": "StyleView",
      "bar_color": null,
      "description_width": ""
     }
    },
    "6d6dd4c0c8fe446686fa9adfeee04d3f": {
     "model_module": "@jupyter-widgets/base",
     "model_module_version": "1.2.0",
     "model_name": "LayoutModel",
     "state": {
      "_model_module": "@jupyter-widgets/base",
      "_model_module_version": "1.2.0",
      "_model_name": "LayoutModel",
      "_view_count": null,
      "_view_module": "@jupyter-widgets/base",
      "_view_module_version": "1.2.0",
      "_view_name": "LayoutView",
      "align_content": null,
      "align_items": null,
      "align_self": null,
      "border": null,
      "bottom": null,
      "display": null,
      "flex": null,
      "flex_flow": null,
      "grid_area": null,
      "grid_auto_columns": null,
      "grid_auto_flow": null,
      "grid_auto_rows": null,
      "grid_column": null,
      "grid_gap": null,
      "grid_row": null,
      "grid_template_areas": null,
      "grid_template_columns": null,
      "grid_template_rows": null,
      "height": null,
      "justify_content": null,
      "justify_items": null,
      "left": null,
      "margin": null,
      "max_height": null,
      "max_width": null,
      "min_height": null,
      "min_width": null,
      "object_fit": null,
      "object_position": null,
      "order": null,
      "overflow": null,
      "overflow_x": null,
      "overflow_y": null,
      "padding": null,
      "right": null,
      "top": null,
      "visibility": null,
      "width": null
     }
    },
    "71947a1554284271b0ed067b97dceeff": {
     "model_module": "@jupyter-widgets/base",
     "model_module_version": "1.2.0",
     "model_name": "LayoutModel",
     "state": {
      "_model_module": "@jupyter-widgets/base",
      "_model_module_version": "1.2.0",
      "_model_name": "LayoutModel",
      "_view_count": null,
      "_view_module": "@jupyter-widgets/base",
      "_view_module_version": "1.2.0",
      "_view_name": "LayoutView",
      "align_content": null,
      "align_items": null,
      "align_self": null,
      "border": null,
      "bottom": null,
      "display": null,
      "flex": null,
      "flex_flow": null,
      "grid_area": null,
      "grid_auto_columns": null,
      "grid_auto_flow": null,
      "grid_auto_rows": null,
      "grid_column": null,
      "grid_gap": null,
      "grid_row": null,
      "grid_template_areas": null,
      "grid_template_columns": null,
      "grid_template_rows": null,
      "height": null,
      "justify_content": null,
      "justify_items": null,
      "left": null,
      "margin": null,
      "max_height": null,
      "max_width": null,
      "min_height": null,
      "min_width": null,
      "object_fit": null,
      "object_position": null,
      "order": null,
      "overflow": null,
      "overflow_x": null,
      "overflow_y": null,
      "padding": null,
      "right": null,
      "top": null,
      "visibility": null,
      "width": null
     }
    },
    "7624ffffafa5438098718408744b1e90": {
     "model_module": "@jupyter-widgets/base",
     "model_module_version": "1.2.0",
     "model_name": "LayoutModel",
     "state": {
      "_model_module": "@jupyter-widgets/base",
      "_model_module_version": "1.2.0",
      "_model_name": "LayoutModel",
      "_view_count": null,
      "_view_module": "@jupyter-widgets/base",
      "_view_module_version": "1.2.0",
      "_view_name": "LayoutView",
      "align_content": null,
      "align_items": null,
      "align_self": null,
      "border": null,
      "bottom": null,
      "display": null,
      "flex": null,
      "flex_flow": null,
      "grid_area": null,
      "grid_auto_columns": null,
      "grid_auto_flow": null,
      "grid_auto_rows": null,
      "grid_column": null,
      "grid_gap": null,
      "grid_row": null,
      "grid_template_areas": null,
      "grid_template_columns": null,
      "grid_template_rows": null,
      "height": null,
      "justify_content": null,
      "justify_items": null,
      "left": null,
      "margin": null,
      "max_height": null,
      "max_width": null,
      "min_height": null,
      "min_width": null,
      "object_fit": null,
      "object_position": null,
      "order": null,
      "overflow": null,
      "overflow_x": null,
      "overflow_y": null,
      "padding": null,
      "right": null,
      "top": null,
      "visibility": null,
      "width": null
     }
    },
    "765f42f26aba4db280a2040e6b926d5b": {
     "model_module": "@jupyter-widgets/controls",
     "model_module_version": "1.5.0",
     "model_name": "DescriptionStyleModel",
     "state": {
      "_model_module": "@jupyter-widgets/controls",
      "_model_module_version": "1.5.0",
      "_model_name": "DescriptionStyleModel",
      "_view_count": null,
      "_view_module": "@jupyter-widgets/base",
      "_view_module_version": "1.2.0",
      "_view_name": "StyleView",
      "description_width": ""
     }
    },
    "76797c2ae98c44aea669c4720e5e3674": {
     "model_module": "@jupyter-widgets/controls",
     "model_module_version": "1.5.0",
     "model_name": "DescriptionStyleModel",
     "state": {
      "_model_module": "@jupyter-widgets/controls",
      "_model_module_version": "1.5.0",
      "_model_name": "DescriptionStyleModel",
      "_view_count": null,
      "_view_module": "@jupyter-widgets/base",
      "_view_module_version": "1.2.0",
      "_view_name": "StyleView",
      "description_width": ""
     }
    },
    "78f3f2ff53ca4150b34a381406de80bd": {
     "model_module": "@jupyter-widgets/controls",
     "model_module_version": "1.5.0",
     "model_name": "DescriptionStyleModel",
     "state": {
      "_model_module": "@jupyter-widgets/controls",
      "_model_module_version": "1.5.0",
      "_model_name": "DescriptionStyleModel",
      "_view_count": null,
      "_view_module": "@jupyter-widgets/base",
      "_view_module_version": "1.2.0",
      "_view_name": "StyleView",
      "description_width": ""
     }
    },
    "81f10753443842a597b78047e7209791": {
     "model_module": "@jupyter-widgets/controls",
     "model_module_version": "1.5.0",
     "model_name": "DescriptionStyleModel",
     "state": {
      "_model_module": "@jupyter-widgets/controls",
      "_model_module_version": "1.5.0",
      "_model_name": "DescriptionStyleModel",
      "_view_count": null,
      "_view_module": "@jupyter-widgets/base",
      "_view_module_version": "1.2.0",
      "_view_name": "StyleView",
      "description_width": ""
     }
    },
    "84c84a33d32a4a578b442e28f498f6c1": {
     "model_module": "@jupyter-widgets/controls",
     "model_module_version": "1.5.0",
     "model_name": "FloatProgressModel",
     "state": {
      "_dom_classes": [],
      "_model_module": "@jupyter-widgets/controls",
      "_model_module_version": "1.5.0",
      "_model_name": "FloatProgressModel",
      "_view_count": null,
      "_view_module": "@jupyter-widgets/controls",
      "_view_module_version": "1.5.0",
      "_view_name": "ProgressView",
      "bar_style": "",
      "description": "",
      "description_tooltip": null,
      "layout": "IPY_MODEL_9e41ee1467774c838a8f187a4da6d5bb",
      "max": 25250,
      "min": 0,
      "orientation": "horizontal",
      "style": "IPY_MODEL_48577e88dec84d13b4371435a3cb5b6e",
      "value": 25250
     }
    },
    "85ae67481d424f3d99f633367fb28279": {
     "model_module": "@jupyter-widgets/controls",
     "model_module_version": "1.5.0",
     "model_name": "FloatProgressModel",
     "state": {
      "_dom_classes": [],
      "_model_module": "@jupyter-widgets/controls",
      "_model_module_version": "1.5.0",
      "_model_name": "FloatProgressModel",
      "_view_count": null,
      "_view_module": "@jupyter-widgets/controls",
      "_view_module_version": "1.5.0",
      "_view_name": "ProgressView",
      "bar_style": "success",
      "description": "",
      "description_tooltip": null,
      "layout": "IPY_MODEL_89bc94f1d15f4880948c12f9ae132e63",
      "max": 1,
      "min": 0,
      "orientation": "horizontal",
      "style": "IPY_MODEL_45f3b5d3314746a08cb40326f12d5ae9",
      "value": 1
     }
    },
    "88b26985d88d4a34b881e2d8e219547c": {
     "model_module": "@jupyter-widgets/controls",
     "model_module_version": "1.5.0",
     "model_name": "HTMLModel",
     "state": {
      "_dom_classes": [],
      "_model_module": "@jupyter-widgets/controls",
      "_model_module_version": "1.5.0",
      "_model_name": "HTMLModel",
      "_view_count": null,
      "_view_module": "@jupyter-widgets/controls",
      "_view_module_version": "1.5.0",
      "_view_name": "HTMLView",
      "description": "",
      "description_tooltip": null,
      "layout": "IPY_MODEL_25385c0d4bfb44adb5d25a543951eab6",
      "placeholder": "​",
      "style": "IPY_MODEL_4dc103257dd64d2ead43f1a7a9036d53",
      "value": " 25080/25250 [00:03&lt;00:00, 9951.39 examples/s]"
     }
    },
    "89bc94f1d15f4880948c12f9ae132e63": {
     "model_module": "@jupyter-widgets/base",
     "model_module_version": "1.2.0",
     "model_name": "LayoutModel",
     "state": {
      "_model_module": "@jupyter-widgets/base",
      "_model_module_version": "1.2.0",
      "_model_name": "LayoutModel",
      "_view_count": null,
      "_view_module": "@jupyter-widgets/base",
      "_view_module_version": "1.2.0",
      "_view_name": "LayoutView",
      "align_content": null,
      "align_items": null,
      "align_self": null,
      "border": null,
      "bottom": null,
      "display": null,
      "flex": null,
      "flex_flow": null,
      "grid_area": null,
      "grid_auto_columns": null,
      "grid_auto_flow": null,
      "grid_auto_rows": null,
      "grid_column": null,
      "grid_gap": null,
      "grid_row": null,
      "grid_template_areas": null,
      "grid_template_columns": null,
      "grid_template_rows": null,
      "height": null,
      "justify_content": null,
      "justify_items": null,
      "left": null,
      "margin": null,
      "max_height": null,
      "max_width": null,
      "min_height": null,
      "min_width": null,
      "object_fit": null,
      "object_position": null,
      "order": null,
      "overflow": null,
      "overflow_x": null,
      "overflow_y": null,
      "padding": null,
      "right": null,
      "top": null,
      "visibility": null,
      "width": "20px"
     }
    },
    "8fdcc0e836434ed0b562ca7211de97da": {
     "model_module": "@jupyter-widgets/controls",
     "model_module_version": "1.5.0",
     "model_name": "DescriptionStyleModel",
     "state": {
      "_model_module": "@jupyter-widgets/controls",
      "_model_module_version": "1.5.0",
      "_model_name": "DescriptionStyleModel",
      "_view_count": null,
      "_view_module": "@jupyter-widgets/base",
      "_view_module_version": "1.2.0",
      "_view_name": "StyleView",
      "description_width": ""
     }
    },
    "91c35f430f9d43d98c5b46689bd79d69": {
     "model_module": "@jupyter-widgets/controls",
     "model_module_version": "1.5.0",
     "model_name": "ProgressStyleModel",
     "state": {
      "_model_module": "@jupyter-widgets/controls",
      "_model_module_version": "1.5.0",
      "_model_name": "ProgressStyleModel",
      "_view_count": null,
      "_view_module": "@jupyter-widgets/base",
      "_view_module_version": "1.2.0",
      "_view_name": "StyleView",
      "bar_color": null,
      "description_width": ""
     }
    },
    "975de2fff1314fb98edc14dcc501f838": {
     "model_module": "@jupyter-widgets/base",
     "model_module_version": "1.2.0",
     "model_name": "LayoutModel",
     "state": {
      "_model_module": "@jupyter-widgets/base",
      "_model_module_version": "1.2.0",
      "_model_name": "LayoutModel",
      "_view_count": null,
      "_view_module": "@jupyter-widgets/base",
      "_view_module_version": "1.2.0",
      "_view_name": "LayoutView",
      "align_content": null,
      "align_items": null,
      "align_self": null,
      "border": null,
      "bottom": null,
      "display": null,
      "flex": null,
      "flex_flow": null,
      "grid_area": null,
      "grid_auto_columns": null,
      "grid_auto_flow": null,
      "grid_auto_rows": null,
      "grid_column": null,
      "grid_gap": null,
      "grid_row": null,
      "grid_template_areas": null,
      "grid_template_columns": null,
      "grid_template_rows": null,
      "height": null,
      "justify_content": null,
      "justify_items": null,
      "left": null,
      "margin": null,
      "max_height": null,
      "max_width": null,
      "min_height": null,
      "min_width": null,
      "object_fit": null,
      "object_position": null,
      "order": null,
      "overflow": null,
      "overflow_x": null,
      "overflow_y": null,
      "padding": null,
      "right": null,
      "top": null,
      "visibility": null,
      "width": null
     }
    },
    "979b4ad81c4841bb93cab1a44253f374": {
     "model_module": "@jupyter-widgets/controls",
     "model_module_version": "1.5.0",
     "model_name": "HTMLModel",
     "state": {
      "_dom_classes": [],
      "_model_module": "@jupyter-widgets/controls",
      "_model_module_version": "1.5.0",
      "_model_name": "HTMLModel",
      "_view_count": null,
      "_view_module": "@jupyter-widgets/controls",
      "_view_module_version": "1.5.0",
      "_view_name": "HTMLView",
      "description": "",
      "description_tooltip": null,
      "layout": "IPY_MODEL_282b3ce774f54727b0efc70c9aae0d8c",
      "placeholder": "​",
      "style": "IPY_MODEL_bc196bc4a77f427ba3a2496863dd3dd4",
      "value": "Dl Completed...: 100%"
     }
    },
    "9e41ee1467774c838a8f187a4da6d5bb": {
     "model_module": "@jupyter-widgets/base",
     "model_module_version": "1.2.0",
     "model_name": "LayoutModel",
     "state": {
      "_model_module": "@jupyter-widgets/base",
      "_model_module_version": "1.2.0",
      "_model_name": "LayoutModel",
      "_view_count": null,
      "_view_module": "@jupyter-widgets/base",
      "_view_module_version": "1.2.0",
      "_view_name": "LayoutView",
      "align_content": null,
      "align_items": null,
      "align_self": null,
      "border": null,
      "bottom": null,
      "display": null,
      "flex": null,
      "flex_flow": null,
      "grid_area": null,
      "grid_auto_columns": null,
      "grid_auto_flow": null,
      "grid_auto_rows": null,
      "grid_column": null,
      "grid_gap": null,
      "grid_row": null,
      "grid_template_areas": null,
      "grid_template_columns": null,
      "grid_template_rows": null,
      "height": null,
      "justify_content": null,
      "justify_items": null,
      "left": null,
      "margin": null,
      "max_height": null,
      "max_width": null,
      "min_height": null,
      "min_width": null,
      "object_fit": null,
      "object_position": null,
      "order": null,
      "overflow": null,
      "overflow_x": null,
      "overflow_y": null,
      "padding": null,
      "right": null,
      "top": null,
      "visibility": null,
      "width": null
     }
    },
    "a1fbfcf439f44064b77e197a5bf377d9": {
     "model_module": "@jupyter-widgets/base",
     "model_module_version": "1.2.0",
     "model_name": "LayoutModel",
     "state": {
      "_model_module": "@jupyter-widgets/base",
      "_model_module_version": "1.2.0",
      "_model_name": "LayoutModel",
      "_view_count": null,
      "_view_module": "@jupyter-widgets/base",
      "_view_module_version": "1.2.0",
      "_view_name": "LayoutView",
      "align_content": null,
      "align_items": null,
      "align_self": null,
      "border": null,
      "bottom": null,
      "display": null,
      "flex": null,
      "flex_flow": null,
      "grid_area": null,
      "grid_auto_columns": null,
      "grid_auto_flow": null,
      "grid_auto_rows": null,
      "grid_column": null,
      "grid_gap": null,
      "grid_row": null,
      "grid_template_areas": null,
      "grid_template_columns": null,
      "grid_template_rows": null,
      "height": null,
      "justify_content": null,
      "justify_items": null,
      "left": null,
      "margin": null,
      "max_height": null,
      "max_width": null,
      "min_height": null,
      "min_width": null,
      "object_fit": null,
      "object_position": null,
      "order": null,
      "overflow": null,
      "overflow_x": null,
      "overflow_y": null,
      "padding": null,
      "right": null,
      "top": null,
      "visibility": null,
      "width": null
     }
    },
    "a663b630ff70415eba5932d9de0f9721": {
     "model_module": "@jupyter-widgets/base",
     "model_module_version": "1.2.0",
     "model_name": "LayoutModel",
     "state": {
      "_model_module": "@jupyter-widgets/base",
      "_model_module_version": "1.2.0",
      "_model_name": "LayoutModel",
      "_view_count": null,
      "_view_module": "@jupyter-widgets/base",
      "_view_module_version": "1.2.0",
      "_view_name": "LayoutView",
      "align_content": null,
      "align_items": null,
      "align_self": null,
      "border": null,
      "bottom": null,
      "display": null,
      "flex": null,
      "flex_flow": null,
      "grid_area": null,
      "grid_auto_columns": null,
      "grid_auto_flow": null,
      "grid_auto_rows": null,
      "grid_column": null,
      "grid_gap": null,
      "grid_row": null,
      "grid_template_areas": null,
      "grid_template_columns": null,
      "grid_template_rows": null,
      "height": null,
      "justify_content": null,
      "justify_items": null,
      "left": null,
      "margin": null,
      "max_height": null,
      "max_width": null,
      "min_height": null,
      "min_width": null,
      "object_fit": null,
      "object_position": null,
      "order": null,
      "overflow": null,
      "overflow_x": null,
      "overflow_y": null,
      "padding": null,
      "right": null,
      "top": null,
      "visibility": null,
      "width": null
     }
    },
    "aba6347736ab45b39533f26d35787eab": {
     "model_module": "@jupyter-widgets/controls",
     "model_module_version": "1.5.0",
     "model_name": "HTMLModel",
     "state": {
      "_dom_classes": [],
      "_model_module": "@jupyter-widgets/controls",
      "_model_module_version": "1.5.0",
      "_model_name": "HTMLModel",
      "_view_count": null,
      "_view_module": "@jupyter-widgets/controls",
      "_view_module_version": "1.5.0",
      "_view_name": "HTMLView",
      "description": "",
      "description_tooltip": null,
      "layout": "IPY_MODEL_f0673fbdbdef4c71a75f8446da5e31a1",
      "placeholder": "​",
      "style": "IPY_MODEL_3c998e7d9468458ba7bd50d4d0f6a02b",
      "value": " 24185/25250 [00:07&lt;00:00, 2796.68 examples/s]"
     }
    },
    "aed128e7637f46b78bd4de98e7d12939": {
     "model_module": "@jupyter-widgets/controls",
     "model_module_version": "1.5.0",
     "model_name": "DescriptionStyleModel",
     "state": {
      "_model_module": "@jupyter-widgets/controls",
      "_model_module_version": "1.5.0",
      "_model_name": "DescriptionStyleModel",
      "_view_count": null,
      "_view_module": "@jupyter-widgets/base",
      "_view_module_version": "1.2.0",
      "_view_name": "StyleView",
      "description_width": ""
     }
    },
    "b0caefc2545a4d8496c418c1645d35ec": {
     "model_module": "@jupyter-widgets/base",
     "model_module_version": "1.2.0",
     "model_name": "LayoutModel",
     "state": {
      "_model_module": "@jupyter-widgets/base",
      "_model_module_version": "1.2.0",
      "_model_name": "LayoutModel",
      "_view_count": null,
      "_view_module": "@jupyter-widgets/base",
      "_view_module_version": "1.2.0",
      "_view_name": "LayoutView",
      "align_content": null,
      "align_items": null,
      "align_self": null,
      "border": null,
      "bottom": null,
      "display": null,
      "flex": null,
      "flex_flow": null,
      "grid_area": null,
      "grid_auto_columns": null,
      "grid_auto_flow": null,
      "grid_auto_rows": null,
      "grid_column": null,
      "grid_gap": null,
      "grid_row": null,
      "grid_template_areas": null,
      "grid_template_columns": null,
      "grid_template_rows": null,
      "height": null,
      "justify_content": null,
      "justify_items": null,
      "left": null,
      "margin": null,
      "max_height": null,
      "max_width": null,
      "min_height": null,
      "min_width": null,
      "object_fit": null,
      "object_position": null,
      "order": null,
      "overflow": null,
      "overflow_x": null,
      "overflow_y": null,
      "padding": null,
      "right": null,
      "top": null,
      "visibility": null,
      "width": null
     }
    },
    "bc196bc4a77f427ba3a2496863dd3dd4": {
     "model_module": "@jupyter-widgets/controls",
     "model_module_version": "1.5.0",
     "model_name": "DescriptionStyleModel",
     "state": {
      "_model_module": "@jupyter-widgets/controls",
      "_model_module_version": "1.5.0",
      "_model_name": "DescriptionStyleModel",
      "_view_count": null,
      "_view_module": "@jupyter-widgets/base",
      "_view_module_version": "1.2.0",
      "_view_name": "StyleView",
      "description_width": ""
     }
    },
    "be3a243293004c8ca0dabcc31ff40811": {
     "model_module": "@jupyter-widgets/base",
     "model_module_version": "1.2.0",
     "model_name": "LayoutModel",
     "state": {
      "_model_module": "@jupyter-widgets/base",
      "_model_module_version": "1.2.0",
      "_model_name": "LayoutModel",
      "_view_count": null,
      "_view_module": "@jupyter-widgets/base",
      "_view_module_version": "1.2.0",
      "_view_name": "LayoutView",
      "align_content": null,
      "align_items": null,
      "align_self": null,
      "border": null,
      "bottom": null,
      "display": null,
      "flex": null,
      "flex_flow": null,
      "grid_area": null,
      "grid_auto_columns": null,
      "grid_auto_flow": null,
      "grid_auto_rows": null,
      "grid_column": null,
      "grid_gap": null,
      "grid_row": null,
      "grid_template_areas": null,
      "grid_template_columns": null,
      "grid_template_rows": null,
      "height": null,
      "justify_content": null,
      "justify_items": null,
      "left": null,
      "margin": null,
      "max_height": null,
      "max_width": null,
      "min_height": null,
      "min_width": null,
      "object_fit": null,
      "object_position": null,
      "order": null,
      "overflow": null,
      "overflow_x": null,
      "overflow_y": null,
      "padding": null,
      "right": null,
      "top": null,
      "visibility": "hidden",
      "width": null
     }
    },
    "be9d3dfd49cd417999ba40e0ec587123": {
     "model_module": "@jupyter-widgets/controls",
     "model_module_version": "1.5.0",
     "model_name": "FloatProgressModel",
     "state": {
      "_dom_classes": [],
      "_model_module": "@jupyter-widgets/controls",
      "_model_module_version": "1.5.0",
      "_model_name": "FloatProgressModel",
      "_view_count": null,
      "_view_module": "@jupyter-widgets/controls",
      "_view_module_version": "1.5.0",
      "_view_name": "ProgressView",
      "bar_style": "",
      "description": "",
      "description_tooltip": null,
      "layout": "IPY_MODEL_1df29642ff4c4dd8aaa51016f81577fa",
      "max": 2,
      "min": 0,
      "orientation": "horizontal",
      "style": "IPY_MODEL_ce88edd3cb214445bbe2618aa6e066a0",
      "value": 2
     }
    },
    "c2ee656d222f4b7389b4b1c54ee5b1f5": {
     "model_module": "@jupyter-widgets/controls",
     "model_module_version": "1.5.0",
     "model_name": "ProgressStyleModel",
     "state": {
      "_model_module": "@jupyter-widgets/controls",
      "_model_module_version": "1.5.0",
      "_model_name": "ProgressStyleModel",
      "_view_count": null,
      "_view_module": "@jupyter-widgets/base",
      "_view_module_version": "1.2.0",
      "_view_name": "StyleView",
      "bar_color": null,
      "description_width": ""
     }
    },
    "c34d4c898c9842a6bbb01b5851699a6f": {
     "model_module": "@jupyter-widgets/controls",
     "model_module_version": "1.5.0",
     "model_name": "HTMLModel",
     "state": {
      "_dom_classes": [],
      "_model_module": "@jupyter-widgets/controls",
      "_model_module_version": "1.5.0",
      "_model_name": "HTMLModel",
      "_view_count": null,
      "_view_module": "@jupyter-widgets/controls",
      "_view_module_version": "1.5.0",
      "_view_name": "HTMLView",
      "description": "",
      "description_tooltip": null,
      "layout": "IPY_MODEL_7624ffffafa5438098718408744b1e90",
      "placeholder": "​",
      "style": "IPY_MODEL_d0eff09a4713413182559b9c8f58b0ed",
      "value": "Dl Size...: 100%"
     }
    },
    "c61874af41f248fba022c09cd1a42b45": {
     "model_module": "@jupyter-widgets/base",
     "model_module_version": "1.2.0",
     "model_name": "LayoutModel",
     "state": {
      "_model_module": "@jupyter-widgets/base",
      "_model_module_version": "1.2.0",
      "_model_name": "LayoutModel",
      "_view_count": null,
      "_view_module": "@jupyter-widgets/base",
      "_view_module_version": "1.2.0",
      "_view_name": "LayoutView",
      "align_content": null,
      "align_items": null,
      "align_self": null,
      "border": null,
      "bottom": null,
      "display": null,
      "flex": null,
      "flex_flow": null,
      "grid_area": null,
      "grid_auto_columns": null,
      "grid_auto_flow": null,
      "grid_auto_rows": null,
      "grid_column": null,
      "grid_gap": null,
      "grid_row": null,
      "grid_template_areas": null,
      "grid_template_columns": null,
      "grid_template_rows": null,
      "height": null,
      "justify_content": null,
      "justify_items": null,
      "left": null,
      "margin": null,
      "max_height": null,
      "max_width": null,
      "min_height": null,
      "min_width": null,
      "object_fit": null,
      "object_position": null,
      "order": null,
      "overflow": null,
      "overflow_x": null,
      "overflow_y": null,
      "padding": null,
      "right": null,
      "top": null,
      "visibility": null,
      "width": null
     }
    },
    "c7287a92f0514a8482ba7930a455a51a": {
     "model_module": "@jupyter-widgets/base",
     "model_module_version": "1.2.0",
     "model_name": "LayoutModel",
     "state": {
      "_model_module": "@jupyter-widgets/base",
      "_model_module_version": "1.2.0",
      "_model_name": "LayoutModel",
      "_view_count": null,
      "_view_module": "@jupyter-widgets/base",
      "_view_module_version": "1.2.0",
      "_view_name": "LayoutView",
      "align_content": null,
      "align_items": null,
      "align_self": null,
      "border": null,
      "bottom": null,
      "display": null,
      "flex": null,
      "flex_flow": null,
      "grid_area": null,
      "grid_auto_columns": null,
      "grid_auto_flow": null,
      "grid_auto_rows": null,
      "grid_column": null,
      "grid_gap": null,
      "grid_row": null,
      "grid_template_areas": null,
      "grid_template_columns": null,
      "grid_template_rows": null,
      "height": null,
      "justify_content": null,
      "justify_items": null,
      "left": null,
      "margin": null,
      "max_height": null,
      "max_width": null,
      "min_height": null,
      "min_width": null,
      "object_fit": null,
      "object_position": null,
      "order": null,
      "overflow": null,
      "overflow_x": null,
      "overflow_y": null,
      "padding": null,
      "right": null,
      "top": null,
      "visibility": null,
      "width": null
     }
    },
    "cbeb3c77e4024ab395b9181a29b43c25": {
     "model_module": "@jupyter-widgets/controls",
     "model_module_version": "1.5.0",
     "model_name": "HBoxModel",
     "state": {
      "_dom_classes": [],
      "_model_module": "@jupyter-widgets/controls",
      "_model_module_version": "1.5.0",
      "_model_name": "HBoxModel",
      "_view_count": null,
      "_view_module": "@jupyter-widgets/controls",
      "_view_module_version": "1.5.0",
      "_view_name": "HBoxView",
      "box_style": "",
      "children": [
       "IPY_MODEL_2a9c296474994d2d857548aa3068acfa",
       "IPY_MODEL_197ae4d3d79d4598a9f5daa275f57547",
       "IPY_MODEL_88b26985d88d4a34b881e2d8e219547c"
      ],
      "layout": "IPY_MODEL_1b4adb1d3f70438b8e80ce65dc5f3919"
     }
    },
    "ce0b698236c34b5f8cb15d1d651d36b0": {
     "model_module": "@jupyter-widgets/base",
     "model_module_version": "1.2.0",
     "model_name": "LayoutModel",
     "state": {
      "_model_module": "@jupyter-widgets/base",
      "_model_module_version": "1.2.0",
      "_model_name": "LayoutModel",
      "_view_count": null,
      "_view_module": "@jupyter-widgets/base",
      "_view_module_version": "1.2.0",
      "_view_name": "LayoutView",
      "align_content": null,
      "align_items": null,
      "align_self": null,
      "border": null,
      "bottom": null,
      "display": null,
      "flex": null,
      "flex_flow": null,
      "grid_area": null,
      "grid_auto_columns": null,
      "grid_auto_flow": null,
      "grid_auto_rows": null,
      "grid_column": null,
      "grid_gap": null,
      "grid_row": null,
      "grid_template_areas": null,
      "grid_template_columns": null,
      "grid_template_rows": null,
      "height": null,
      "justify_content": null,
      "justify_items": null,
      "left": null,
      "margin": null,
      "max_height": null,
      "max_width": null,
      "min_height": null,
      "min_width": null,
      "object_fit": null,
      "object_position": null,
      "order": null,
      "overflow": null,
      "overflow_x": null,
      "overflow_y": null,
      "padding": null,
      "right": null,
      "top": null,
      "visibility": null,
      "width": null
     }
    },
    "ce88edd3cb214445bbe2618aa6e066a0": {
     "model_module": "@jupyter-widgets/controls",
     "model_module_version": "1.5.0",
     "model_name": "ProgressStyleModel",
     "state": {
      "_model_module": "@jupyter-widgets/controls",
      "_model_module_version": "1.5.0",
      "_model_name": "ProgressStyleModel",
      "_view_count": null,
      "_view_module": "@jupyter-widgets/base",
      "_view_module_version": "1.2.0",
      "_view_name": "StyleView",
      "bar_color": null,
      "description_width": ""
     }
    },
    "d0eff09a4713413182559b9c8f58b0ed": {
     "model_module": "@jupyter-widgets/controls",
     "model_module_version": "1.5.0",
     "model_name": "DescriptionStyleModel",
     "state": {
      "_model_module": "@jupyter-widgets/controls",
      "_model_module_version": "1.5.0",
      "_model_name": "DescriptionStyleModel",
      "_view_count": null,
      "_view_module": "@jupyter-widgets/base",
      "_view_module_version": "1.2.0",
      "_view_name": "StyleView",
      "description_width": ""
     }
    },
    "d3a0db7dd6a446a785c340720b98f7ca": {
     "model_module": "@jupyter-widgets/controls",
     "model_module_version": "1.5.0",
     "model_name": "FloatProgressModel",
     "state": {
      "_dom_classes": [],
      "_model_module": "@jupyter-widgets/controls",
      "_model_module_version": "1.5.0",
      "_model_name": "FloatProgressModel",
      "_view_count": null,
      "_view_module": "@jupyter-widgets/controls",
      "_view_module_version": "1.5.0",
      "_view_name": "ProgressView",
      "bar_style": "success",
      "description": "",
      "description_tooltip": null,
      "layout": "IPY_MODEL_1742e3a689654438822509b534503190",
      "max": 1,
      "min": 0,
      "orientation": "horizontal",
      "style": "IPY_MODEL_c2ee656d222f4b7389b4b1c54ee5b1f5",
      "value": 1
     }
    },
    "d876447d34c745739c11a365cb301e3e": {
     "model_module": "@jupyter-widgets/controls",
     "model_module_version": "1.5.0",
     "model_name": "HTMLModel",
     "state": {
      "_dom_classes": [],
      "_model_module": "@jupyter-widgets/controls",
      "_model_module_version": "1.5.0",
      "_model_name": "HTMLModel",
      "_view_count": null,
      "_view_module": "@jupyter-widgets/controls",
      "_view_module_version": "1.5.0",
      "_view_name": "HTMLView",
      "description": "",
      "description_tooltip": null,
      "layout": "IPY_MODEL_f8c461a9ea7b4cbc9270d86ab592dde1",
      "placeholder": "​",
      "style": "IPY_MODEL_05ab0f2323e94d6387efa00b7bd5c219",
      "value": "Extraction completed...: 100%"
     }
    },
    "dab83413e4394424b8d4e42ceda2a116": {
     "model_module": "@jupyter-widgets/controls",
     "model_module_version": "1.5.0",
     "model_name": "HTMLModel",
     "state": {
      "_dom_classes": [],
      "_model_module": "@jupyter-widgets/controls",
      "_model_module_version": "1.5.0",
      "_model_name": "HTMLModel",
      "_view_count": null,
      "_view_module": "@jupyter-widgets/controls",
      "_view_module_version": "1.5.0",
      "_view_name": "HTMLView",
      "description": "",
      "description_tooltip": null,
      "layout": "IPY_MODEL_6d6dd4c0c8fe446686fa9adfeee04d3f",
      "placeholder": "​",
      "style": "IPY_MODEL_81f10753443842a597b78047e7209791",
      "value": " 1/1 [07:16&lt;00:00, 253.60s/ url]"
     }
    },
    "e13fdf6ae9db4f6b9275381564cb8477": {
     "model_module": "@jupyter-widgets/controls",
     "model_module_version": "1.5.0",
     "model_name": "HBoxModel",
     "state": {
      "_dom_classes": [],
      "_model_module": "@jupyter-widgets/controls",
      "_model_module_version": "1.5.0",
      "_model_name": "HBoxModel",
      "_view_count": null,
      "_view_module": "@jupyter-widgets/controls",
      "_view_module_version": "1.5.0",
      "_view_name": "HBoxView",
      "box_style": "",
      "children": [
       "IPY_MODEL_c34d4c898c9842a6bbb01b5851699a6f",
       "IPY_MODEL_283b15cd3e974689829b848ab0bd3c0a",
       "IPY_MODEL_6007a3aa81eb4f3286dd5d739417ddd5"
      ],
      "layout": "IPY_MODEL_01156b4d60ed4e3c8ddd517e23e034f2"
     }
    },
    "f0673fbdbdef4c71a75f8446da5e31a1": {
     "model_module": "@jupyter-widgets/base",
     "model_module_version": "1.2.0",
     "model_name": "LayoutModel",
     "state": {
      "_model_module": "@jupyter-widgets/base",
      "_model_module_version": "1.2.0",
      "_model_name": "LayoutModel",
      "_view_count": null,
      "_view_module": "@jupyter-widgets/base",
      "_view_module_version": "1.2.0",
      "_view_name": "LayoutView",
      "align_content": null,
      "align_items": null,
      "align_self": null,
      "border": null,
      "bottom": null,
      "display": null,
      "flex": null,
      "flex_flow": null,
      "grid_area": null,
      "grid_auto_columns": null,
      "grid_auto_flow": null,
      "grid_auto_rows": null,
      "grid_column": null,
      "grid_gap": null,
      "grid_row": null,
      "grid_template_areas": null,
      "grid_template_columns": null,
      "grid_template_rows": null,
      "height": null,
      "justify_content": null,
      "justify_items": null,
      "left": null,
      "margin": null,
      "max_height": null,
      "max_width": null,
      "min_height": null,
      "min_width": null,
      "object_fit": null,
      "object_position": null,
      "order": null,
      "overflow": null,
      "overflow_x": null,
      "overflow_y": null,
      "padding": null,
      "right": null,
      "top": null,
      "visibility": null,
      "width": null
     }
    },
    "f61a13a5f0c54dd1971465212195abcb": {
     "model_module": "@jupyter-widgets/base",
     "model_module_version": "1.2.0",
     "model_name": "LayoutModel",
     "state": {
      "_model_module": "@jupyter-widgets/base",
      "_model_module_version": "1.2.0",
      "_model_name": "LayoutModel",
      "_view_count": null,
      "_view_module": "@jupyter-widgets/base",
      "_view_module_version": "1.2.0",
      "_view_name": "LayoutView",
      "align_content": null,
      "align_items": null,
      "align_self": null,
      "border": null,
      "bottom": null,
      "display": null,
      "flex": null,
      "flex_flow": null,
      "grid_area": null,
      "grid_auto_columns": null,
      "grid_auto_flow": null,
      "grid_auto_rows": null,
      "grid_column": null,
      "grid_gap": null,
      "grid_row": null,
      "grid_template_areas": null,
      "grid_template_columns": null,
      "grid_template_rows": null,
      "height": null,
      "justify_content": null,
      "justify_items": null,
      "left": null,
      "margin": null,
      "max_height": null,
      "max_width": null,
      "min_height": null,
      "min_width": null,
      "object_fit": null,
      "object_position": null,
      "order": null,
      "overflow": null,
      "overflow_x": null,
      "overflow_y": null,
      "padding": null,
      "right": null,
      "top": null,
      "visibility": null,
      "width": null
     }
    },
    "f8c461a9ea7b4cbc9270d86ab592dde1": {
     "model_module": "@jupyter-widgets/base",
     "model_module_version": "1.2.0",
     "model_name": "LayoutModel",
     "state": {
      "_model_module": "@jupyter-widgets/base",
      "_model_module_version": "1.2.0",
      "_model_name": "LayoutModel",
      "_view_count": null,
      "_view_module": "@jupyter-widgets/base",
      "_view_module_version": "1.2.0",
      "_view_name": "LayoutView",
      "align_content": null,
      "align_items": null,
      "align_self": null,
      "border": null,
      "bottom": null,
      "display": null,
      "flex": null,
      "flex_flow": null,
      "grid_area": null,
      "grid_auto_columns": null,
      "grid_auto_flow": null,
      "grid_auto_rows": null,
      "grid_column": null,
      "grid_gap": null,
      "grid_row": null,
      "grid_template_areas": null,
      "grid_template_columns": null,
      "grid_template_rows": null,
      "height": null,
      "justify_content": null,
      "justify_items": null,
      "left": null,
      "margin": null,
      "max_height": null,
      "max_width": null,
      "min_height": null,
      "min_width": null,
      "object_fit": null,
      "object_position": null,
      "order": null,
      "overflow": null,
      "overflow_x": null,
      "overflow_y": null,
      "padding": null,
      "right": null,
      "top": null,
      "visibility": null,
      "width": null
     }
    },
    "fc17b2d953b14ca080471508aa1ed261": {
     "model_module": "@jupyter-widgets/base",
     "model_module_version": "1.2.0",
     "model_name": "LayoutModel",
     "state": {
      "_model_module": "@jupyter-widgets/base",
      "_model_module_version": "1.2.0",
      "_model_name": "LayoutModel",
      "_view_count": null,
      "_view_module": "@jupyter-widgets/base",
      "_view_module_version": "1.2.0",
      "_view_name": "LayoutView",
      "align_content": null,
      "align_items": null,
      "align_self": null,
      "border": null,
      "bottom": null,
      "display": null,
      "flex": null,
      "flex_flow": null,
      "grid_area": null,
      "grid_auto_columns": null,
      "grid_auto_flow": null,
      "grid_auto_rows": null,
      "grid_column": null,
      "grid_gap": null,
      "grid_row": null,
      "grid_template_areas": null,
      "grid_template_columns": null,
      "grid_template_rows": null,
      "height": null,
      "justify_content": null,
      "justify_items": null,
      "left": null,
      "margin": null,
      "max_height": null,
      "max_width": null,
      "min_height": null,
      "min_width": null,
      "object_fit": null,
      "object_position": null,
      "order": null,
      "overflow": null,
      "overflow_x": null,
      "overflow_y": null,
      "padding": null,
      "right": null,
      "top": null,
      "visibility": null,
      "width": null
     }
    },
    "ff67a1ded7ff468d840c734946a03eb0": {
     "model_module": "@jupyter-widgets/base",
     "model_module_version": "1.2.0",
     "model_name": "LayoutModel",
     "state": {
      "_model_module": "@jupyter-widgets/base",
      "_model_module_version": "1.2.0",
      "_model_name": "LayoutModel",
      "_view_count": null,
      "_view_module": "@jupyter-widgets/base",
      "_view_module_version": "1.2.0",
      "_view_name": "LayoutView",
      "align_content": null,
      "align_items": null,
      "align_self": null,
      "border": null,
      "bottom": null,
      "display": null,
      "flex": null,
      "flex_flow": null,
      "grid_area": null,
      "grid_auto_columns": null,
      "grid_auto_flow": null,
      "grid_auto_rows": null,
      "grid_column": null,
      "grid_gap": null,
      "grid_row": null,
      "grid_template_areas": null,
      "grid_template_columns": null,
      "grid_template_rows": null,
      "height": null,
      "justify_content": null,
      "justify_items": null,
      "left": null,
      "margin": null,
      "max_height": null,
      "max_width": null,
      "min_height": null,
      "min_width": null,
      "object_fit": null,
      "object_position": null,
      "order": null,
      "overflow": null,
      "overflow_x": null,
      "overflow_y": null,
      "padding": null,
      "right": null,
      "top": null,
      "visibility": null,
      "width": null
     }
    }
   }
  }
 },
 "nbformat": 4,
 "nbformat_minor": 4
}
